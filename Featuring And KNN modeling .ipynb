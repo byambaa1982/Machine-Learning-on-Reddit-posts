{
 "cells": [
  {
   "cell_type": "code",
   "execution_count": 1,
   "metadata": {},
   "outputs": [],
   "source": [
    "import requests\n",
    "import time\n",
    "import pandas as pd\n",
    "import numpy as np"
   ]
  },
  {
   "cell_type": "code",
   "execution_count": 2,
   "metadata": {},
   "outputs": [],
   "source": [
    "df=pd.read_csv('my_df.csv')"
   ]
  },
  {
   "cell_type": "code",
   "execution_count": 3,
   "metadata": {},
   "outputs": [
    {
     "data": {
      "text/plain": [
       "Index(['0', '1', '2', '3', '4', '5', '6', '7'], dtype='object')"
      ]
     },
     "execution_count": 3,
     "metadata": {},
     "output_type": "execute_result"
    }
   ],
   "source": [
    "df.columns"
   ]
  },
  {
   "cell_type": "code",
   "execution_count": 4,
   "metadata": {},
   "outputs": [],
   "source": [
    "df.rename(columns={'0':'ids', '1':'authors', '2':'subreddits', '3':'num_comments', '4':'titles', \n",
    "                   '5':'scores', '6':'utc','7': 'created_utc'}, inplace=True)"
   ]
  },
  {
   "cell_type": "code",
   "execution_count": 5,
   "metadata": {
    "scrolled": true
   },
   "outputs": [
    {
     "data": {
      "text/html": [
       "<div>\n",
       "<style scoped>\n",
       "    .dataframe tbody tr th:only-of-type {\n",
       "        vertical-align: middle;\n",
       "    }\n",
       "\n",
       "    .dataframe tbody tr th {\n",
       "        vertical-align: top;\n",
       "    }\n",
       "\n",
       "    .dataframe thead th {\n",
       "        text-align: right;\n",
       "    }\n",
       "</style>\n",
       "<table border=\"1\" class=\"dataframe\">\n",
       "  <thead>\n",
       "    <tr style=\"text-align: right;\">\n",
       "      <th></th>\n",
       "      <th>ids</th>\n",
       "      <th>authors</th>\n",
       "      <th>subreddits</th>\n",
       "      <th>num_comments</th>\n",
       "      <th>titles</th>\n",
       "      <th>scores</th>\n",
       "      <th>utc</th>\n",
       "      <th>created_utc</th>\n",
       "    </tr>\n",
       "  </thead>\n",
       "  <tbody>\n",
       "    <tr>\n",
       "      <th>0</th>\n",
       "      <td>8n25ux</td>\n",
       "      <td>GallowPlaceholder</td>\n",
       "      <td>gifs</td>\n",
       "      <td>1137</td>\n",
       "      <td>Millionaire meets billionaire</td>\n",
       "      <td>18614</td>\n",
       "      <td>1.527653e+09</td>\n",
       "      <td>1.527624e+09</td>\n",
       "    </tr>\n",
       "    <tr>\n",
       "      <th>1</th>\n",
       "      <td>8n14rc</td>\n",
       "      <td>Bigga_D</td>\n",
       "      <td>news</td>\n",
       "      <td>5877</td>\n",
       "      <td>ABC cancels Roseanne Barr's sitcom after her t...</td>\n",
       "      <td>43404</td>\n",
       "      <td>1.527645e+09</td>\n",
       "      <td>1.527616e+09</td>\n",
       "    </tr>\n",
       "    <tr>\n",
       "      <th>2</th>\n",
       "      <td>8n13k3</td>\n",
       "      <td>grand_nagus_gary</td>\n",
       "      <td>television</td>\n",
       "      <td>10083</td>\n",
       "      <td>‘Roseanne’ Cancelled: ABC Scraps Season 11 Aft...</td>\n",
       "      <td>34571</td>\n",
       "      <td>1.527645e+09</td>\n",
       "      <td>1.527616e+09</td>\n",
       "    </tr>\n",
       "    <tr>\n",
       "      <th>3</th>\n",
       "      <td>8n0tgf</td>\n",
       "      <td>jcardona1</td>\n",
       "      <td>mildlyinfuriating</td>\n",
       "      <td>2525</td>\n",
       "      <td>North Face stole my photo and put it on their ...</td>\n",
       "      <td>47738</td>\n",
       "      <td>1.527643e+09</td>\n",
       "      <td>1.527614e+09</td>\n",
       "    </tr>\n",
       "    <tr>\n",
       "      <th>4</th>\n",
       "      <td>8n1541</td>\n",
       "      <td>Evni37</td>\n",
       "      <td>starterpacks</td>\n",
       "      <td>643</td>\n",
       "      <td>Cosplay Starter Pack</td>\n",
       "      <td>14637</td>\n",
       "      <td>1.527645e+09</td>\n",
       "      <td>1.527616e+09</td>\n",
       "    </tr>\n",
       "  </tbody>\n",
       "</table>\n",
       "</div>"
      ],
      "text/plain": [
       "      ids            authors         subreddits  num_comments  \\\n",
       "0  8n25ux  GallowPlaceholder               gifs          1137   \n",
       "1  8n14rc            Bigga_D               news          5877   \n",
       "2  8n13k3   grand_nagus_gary         television         10083   \n",
       "3  8n0tgf          jcardona1  mildlyinfuriating          2525   \n",
       "4  8n1541             Evni37       starterpacks           643   \n",
       "\n",
       "                                              titles  scores           utc  \\\n",
       "0                      Millionaire meets billionaire   18614  1.527653e+09   \n",
       "1  ABC cancels Roseanne Barr's sitcom after her t...   43404  1.527645e+09   \n",
       "2  ‘Roseanne’ Cancelled: ABC Scraps Season 11 Aft...   34571  1.527645e+09   \n",
       "3  North Face stole my photo and put it on their ...   47738  1.527643e+09   \n",
       "4                               Cosplay Starter Pack   14637  1.527645e+09   \n",
       "\n",
       "    created_utc  \n",
       "0  1.527624e+09  \n",
       "1  1.527616e+09  \n",
       "2  1.527616e+09  \n",
       "3  1.527614e+09  \n",
       "4  1.527616e+09  "
      ]
     },
     "execution_count": 5,
     "metadata": {},
     "output_type": "execute_result"
    }
   ],
   "source": [
    "df.head()"
   ]
  },
  {
   "cell_type": "code",
   "execution_count": 6,
   "metadata": {},
   "outputs": [
    {
     "data": {
      "text/plain": [
       "(2500, 8)"
      ]
     },
     "execution_count": 6,
     "metadata": {},
     "output_type": "execute_result"
    }
   ],
   "source": [
    "df.shape"
   ]
  },
  {
   "cell_type": "code",
   "execution_count": 7,
   "metadata": {},
   "outputs": [],
   "source": [
    "# To find time length of posts"
   ]
  },
  {
   "cell_type": "code",
   "execution_count": 8,
   "metadata": {},
   "outputs": [
    {
     "data": {
      "text/plain": [
       "0    21.546944\n",
       "1    19.441944\n",
       "2    19.373056\n",
       "3    18.789444\n",
       "4    19.463056\n",
       "Name: timelength, dtype: float64"
      ]
     },
     "execution_count": 8,
     "metadata": {},
     "output_type": "execute_result"
    }
   ],
   "source": [
    "df['timelength']=(df.created_utc-np.min(df.created_utc))/(3600)\n",
    "df['timelength'].head()"
   ]
  },
  {
   "cell_type": "code",
   "execution_count": 9,
   "metadata": {},
   "outputs": [],
   "source": [
    "df=df.drop(['ids','authors','utc'], axis=1)"
   ]
  },
  {
   "cell_type": "code",
   "execution_count": 10,
   "metadata": {},
   "outputs": [
    {
     "data": {
      "text/html": [
       "<div>\n",
       "<style scoped>\n",
       "    .dataframe tbody tr th:only-of-type {\n",
       "        vertical-align: middle;\n",
       "    }\n",
       "\n",
       "    .dataframe tbody tr th {\n",
       "        vertical-align: top;\n",
       "    }\n",
       "\n",
       "    .dataframe thead th {\n",
       "        text-align: right;\n",
       "    }\n",
       "</style>\n",
       "<table border=\"1\" class=\"dataframe\">\n",
       "  <thead>\n",
       "    <tr style=\"text-align: right;\">\n",
       "      <th></th>\n",
       "      <th>subreddits</th>\n",
       "      <th>num_comments</th>\n",
       "      <th>titles</th>\n",
       "      <th>scores</th>\n",
       "      <th>created_utc</th>\n",
       "      <th>timelength</th>\n",
       "    </tr>\n",
       "  </thead>\n",
       "  <tbody>\n",
       "    <tr>\n",
       "      <th>0</th>\n",
       "      <td>gifs</td>\n",
       "      <td>1137</td>\n",
       "      <td>Millionaire meets billionaire</td>\n",
       "      <td>18614</td>\n",
       "      <td>1.527624e+09</td>\n",
       "      <td>21.546944</td>\n",
       "    </tr>\n",
       "    <tr>\n",
       "      <th>1</th>\n",
       "      <td>news</td>\n",
       "      <td>5877</td>\n",
       "      <td>ABC cancels Roseanne Barr's sitcom after her t...</td>\n",
       "      <td>43404</td>\n",
       "      <td>1.527616e+09</td>\n",
       "      <td>19.441944</td>\n",
       "    </tr>\n",
       "    <tr>\n",
       "      <th>2</th>\n",
       "      <td>television</td>\n",
       "      <td>10083</td>\n",
       "      <td>‘Roseanne’ Cancelled: ABC Scraps Season 11 Aft...</td>\n",
       "      <td>34571</td>\n",
       "      <td>1.527616e+09</td>\n",
       "      <td>19.373056</td>\n",
       "    </tr>\n",
       "    <tr>\n",
       "      <th>3</th>\n",
       "      <td>mildlyinfuriating</td>\n",
       "      <td>2525</td>\n",
       "      <td>North Face stole my photo and put it on their ...</td>\n",
       "      <td>47738</td>\n",
       "      <td>1.527614e+09</td>\n",
       "      <td>18.789444</td>\n",
       "    </tr>\n",
       "    <tr>\n",
       "      <th>4</th>\n",
       "      <td>starterpacks</td>\n",
       "      <td>643</td>\n",
       "      <td>Cosplay Starter Pack</td>\n",
       "      <td>14637</td>\n",
       "      <td>1.527616e+09</td>\n",
       "      <td>19.463056</td>\n",
       "    </tr>\n",
       "  </tbody>\n",
       "</table>\n",
       "</div>"
      ],
      "text/plain": [
       "          subreddits  num_comments  \\\n",
       "0               gifs          1137   \n",
       "1               news          5877   \n",
       "2         television         10083   \n",
       "3  mildlyinfuriating          2525   \n",
       "4       starterpacks           643   \n",
       "\n",
       "                                              titles  scores   created_utc  \\\n",
       "0                      Millionaire meets billionaire   18614  1.527624e+09   \n",
       "1  ABC cancels Roseanne Barr's sitcom after her t...   43404  1.527616e+09   \n",
       "2  ‘Roseanne’ Cancelled: ABC Scraps Season 11 Aft...   34571  1.527616e+09   \n",
       "3  North Face stole my photo and put it on their ...   47738  1.527614e+09   \n",
       "4                               Cosplay Starter Pack   14637  1.527616e+09   \n",
       "\n",
       "   timelength  \n",
       "0   21.546944  \n",
       "1   19.441944  \n",
       "2   19.373056  \n",
       "3   18.789444  \n",
       "4   19.463056  "
      ]
     },
     "execution_count": 10,
     "metadata": {},
     "output_type": "execute_result"
    }
   ],
   "source": [
    "df.head()"
   ]
  },
  {
   "cell_type": "code",
   "execution_count": 11,
   "metadata": {},
   "outputs": [],
   "source": [
    "df.drop_duplicates(['titles'], inplace=True)"
   ]
  },
  {
   "cell_type": "code",
   "execution_count": 12,
   "metadata": {},
   "outputs": [
    {
     "data": {
      "text/plain": [
       "(2379, 6)"
      ]
     },
     "execution_count": 12,
     "metadata": {},
     "output_type": "execute_result"
    }
   ],
   "source": [
    "df.shape"
   ]
  },
  {
   "cell_type": "code",
   "execution_count": 13,
   "metadata": {},
   "outputs": [],
   "source": [
    "df.reset_index(inplace=True)"
   ]
  },
  {
   "cell_type": "code",
   "execution_count": 14,
   "metadata": {},
   "outputs": [
    {
     "data": {
      "text/plain": [
       "(2379, 7)"
      ]
     },
     "execution_count": 14,
     "metadata": {},
     "output_type": "execute_result"
    }
   ],
   "source": [
    "df.shape"
   ]
  },
  {
   "cell_type": "code",
   "execution_count": 15,
   "metadata": {},
   "outputs": [],
   "source": [
    "df.to_csv('original', index=False)"
   ]
  },
  {
   "cell_type": "code",
   "execution_count": 16,
   "metadata": {},
   "outputs": [
    {
     "data": {
      "text/plain": [
       "2379"
      ]
     },
     "execution_count": 16,
     "metadata": {},
     "output_type": "execute_result"
    }
   ],
   "source": [
    "len(set(df.titles))"
   ]
  },
  {
   "cell_type": "code",
   "execution_count": 17,
   "metadata": {},
   "outputs": [
    {
     "data": {
      "text/html": [
       "<div>\n",
       "<style scoped>\n",
       "    .dataframe tbody tr th:only-of-type {\n",
       "        vertical-align: middle;\n",
       "    }\n",
       "\n",
       "    .dataframe tbody tr th {\n",
       "        vertical-align: top;\n",
       "    }\n",
       "\n",
       "    .dataframe thead th {\n",
       "        text-align: right;\n",
       "    }\n",
       "</style>\n",
       "<table border=\"1\" class=\"dataframe\">\n",
       "  <thead>\n",
       "    <tr style=\"text-align: right;\">\n",
       "      <th></th>\n",
       "      <th>index</th>\n",
       "      <th>num_comments</th>\n",
       "      <th>scores</th>\n",
       "      <th>created_utc</th>\n",
       "      <th>timelength</th>\n",
       "    </tr>\n",
       "  </thead>\n",
       "  <tbody>\n",
       "    <tr>\n",
       "      <th>index</th>\n",
       "      <td>1.000000</td>\n",
       "      <td>-0.222218</td>\n",
       "      <td>-0.372059</td>\n",
       "      <td>0.071357</td>\n",
       "      <td>0.071357</td>\n",
       "    </tr>\n",
       "    <tr>\n",
       "      <th>num_comments</th>\n",
       "      <td>-0.222218</td>\n",
       "      <td>1.000000</td>\n",
       "      <td>0.504004</td>\n",
       "      <td>-0.093733</td>\n",
       "      <td>-0.093733</td>\n",
       "    </tr>\n",
       "    <tr>\n",
       "      <th>scores</th>\n",
       "      <td>-0.372059</td>\n",
       "      <td>0.504004</td>\n",
       "      <td>1.000000</td>\n",
       "      <td>-0.286410</td>\n",
       "      <td>-0.286410</td>\n",
       "    </tr>\n",
       "    <tr>\n",
       "      <th>created_utc</th>\n",
       "      <td>0.071357</td>\n",
       "      <td>-0.093733</td>\n",
       "      <td>-0.286410</td>\n",
       "      <td>1.000000</td>\n",
       "      <td>1.000000</td>\n",
       "    </tr>\n",
       "    <tr>\n",
       "      <th>timelength</th>\n",
       "      <td>0.071357</td>\n",
       "      <td>-0.093733</td>\n",
       "      <td>-0.286410</td>\n",
       "      <td>1.000000</td>\n",
       "      <td>1.000000</td>\n",
       "    </tr>\n",
       "  </tbody>\n",
       "</table>\n",
       "</div>"
      ],
      "text/plain": [
       "                 index  num_comments    scores  created_utc  timelength\n",
       "index         1.000000     -0.222218 -0.372059     0.071357    0.071357\n",
       "num_comments -0.222218      1.000000  0.504004    -0.093733   -0.093733\n",
       "scores       -0.372059      0.504004  1.000000    -0.286410   -0.286410\n",
       "created_utc   0.071357     -0.093733 -0.286410     1.000000    1.000000\n",
       "timelength    0.071357     -0.093733 -0.286410     1.000000    1.000000"
      ]
     },
     "execution_count": 17,
     "metadata": {},
     "output_type": "execute_result"
    }
   ],
   "source": [
    "df.corr()"
   ]
  },
  {
   "cell_type": "code",
   "execution_count": 18,
   "metadata": {},
   "outputs": [],
   "source": [
    "# Checking what time of day is the most of posts are posted. "
   ]
  },
  {
   "cell_type": "code",
   "execution_count": 19,
   "metadata": {},
   "outputs": [
    {
     "data": {
      "text/html": [
       "<div>\n",
       "<style scoped>\n",
       "    .dataframe tbody tr th:only-of-type {\n",
       "        vertical-align: middle;\n",
       "    }\n",
       "\n",
       "    .dataframe tbody tr th {\n",
       "        vertical-align: top;\n",
       "    }\n",
       "\n",
       "    .dataframe thead th {\n",
       "        text-align: right;\n",
       "    }\n",
       "</style>\n",
       "<table border=\"1\" class=\"dataframe\">\n",
       "  <thead>\n",
       "    <tr style=\"text-align: right;\">\n",
       "      <th></th>\n",
       "      <th>index</th>\n",
       "      <th>num_comments</th>\n",
       "      <th>scores</th>\n",
       "      <th>created_utc</th>\n",
       "      <th>timelength</th>\n",
       "    </tr>\n",
       "  </thead>\n",
       "  <tbody>\n",
       "    <tr>\n",
       "      <th>count</th>\n",
       "      <td>2379.000000</td>\n",
       "      <td>2379.000000</td>\n",
       "      <td>2379.000000</td>\n",
       "      <td>2.379000e+03</td>\n",
       "      <td>2379.000000</td>\n",
       "    </tr>\n",
       "    <tr>\n",
       "      <th>mean</th>\n",
       "      <td>1210.247163</td>\n",
       "      <td>99.668348</td>\n",
       "      <td>2213.812947</td>\n",
       "      <td>1.527603e+09</td>\n",
       "      <td>15.681879</td>\n",
       "    </tr>\n",
       "    <tr>\n",
       "      <th>std</th>\n",
       "      <td>706.182915</td>\n",
       "      <td>410.923925</td>\n",
       "      <td>6218.414621</td>\n",
       "      <td>1.488496e+04</td>\n",
       "      <td>4.134710</td>\n",
       "    </tr>\n",
       "    <tr>\n",
       "      <th>min</th>\n",
       "      <td>0.000000</td>\n",
       "      <td>0.000000</td>\n",
       "      <td>31.000000</td>\n",
       "      <td>1.527546e+09</td>\n",
       "      <td>0.000000</td>\n",
       "    </tr>\n",
       "    <tr>\n",
       "      <th>25%</th>\n",
       "      <td>597.500000</td>\n",
       "      <td>9.000000</td>\n",
       "      <td>146.000000</td>\n",
       "      <td>1.527596e+09</td>\n",
       "      <td>13.743194</td>\n",
       "    </tr>\n",
       "    <tr>\n",
       "      <th>50%</th>\n",
       "      <td>1210.000000</td>\n",
       "      <td>25.000000</td>\n",
       "      <td>354.000000</td>\n",
       "      <td>1.527605e+09</td>\n",
       "      <td>16.272778</td>\n",
       "    </tr>\n",
       "    <tr>\n",
       "      <th>75%</th>\n",
       "      <td>1816.500000</td>\n",
       "      <td>65.000000</td>\n",
       "      <td>1162.500000</td>\n",
       "      <td>1.527613e+09</td>\n",
       "      <td>18.458472</td>\n",
       "    </tr>\n",
       "    <tr>\n",
       "      <th>max</th>\n",
       "      <td>2499.000000</td>\n",
       "      <td>10083.000000</td>\n",
       "      <td>68086.000000</td>\n",
       "      <td>1.527630e+09</td>\n",
       "      <td>23.265833</td>\n",
       "    </tr>\n",
       "  </tbody>\n",
       "</table>\n",
       "</div>"
      ],
      "text/plain": [
       "             index  num_comments        scores   created_utc   timelength\n",
       "count  2379.000000   2379.000000   2379.000000  2.379000e+03  2379.000000\n",
       "mean   1210.247163     99.668348   2213.812947  1.527603e+09    15.681879\n",
       "std     706.182915    410.923925   6218.414621  1.488496e+04     4.134710\n",
       "min       0.000000      0.000000     31.000000  1.527546e+09     0.000000\n",
       "25%     597.500000      9.000000    146.000000  1.527596e+09    13.743194\n",
       "50%    1210.000000     25.000000    354.000000  1.527605e+09    16.272778\n",
       "75%    1816.500000     65.000000   1162.500000  1.527613e+09    18.458472\n",
       "max    2499.000000  10083.000000  68086.000000  1.527630e+09    23.265833"
      ]
     },
     "execution_count": 19,
     "metadata": {},
     "output_type": "execute_result"
    }
   ],
   "source": [
    "df.describe()"
   ]
  },
  {
   "cell_type": "code",
   "execution_count": 20,
   "metadata": {},
   "outputs": [],
   "source": [
    "desc=df.describe()"
   ]
  },
  {
   "cell_type": "code",
   "execution_count": 21,
   "metadata": {},
   "outputs": [
    {
     "data": {
      "text/plain": [
       "1527602831.764607"
      ]
     },
     "execution_count": 21,
     "metadata": {},
     "output_type": "execute_result"
    }
   ],
   "source": [
    "desc.created_utc['mean']"
   ]
  },
  {
   "cell_type": "code",
   "execution_count": 22,
   "metadata": {},
   "outputs": [
    {
     "name": "stdout",
     "output_type": "stream",
     "text": [
      "2018-05-29 09:07:11\n"
     ]
    }
   ],
   "source": [
    "from datetime import datetime\n",
    "print(\n",
    "    datetime.fromtimestamp(\n",
    "        int(desc.created_utc['mean'])\n",
    "    ).strftime('%Y-%m-%d %H:%M:%S')\n",
    ")"
   ]
  },
  {
   "cell_type": "code",
   "execution_count": 23,
   "metadata": {},
   "outputs": [],
   "source": [
    "#   The oldest post"
   ]
  },
  {
   "cell_type": "code",
   "execution_count": 24,
   "metadata": {},
   "outputs": [
    {
     "name": "stdout",
     "output_type": "stream",
     "text": [
      "2018-05-28 17:26:17\n"
     ]
    }
   ],
   "source": [
    "print(\n",
    "    datetime.fromtimestamp(\n",
    "        int(desc.created_utc['min'])\n",
    "    ).strftime('%Y-%m-%d %H:%M:%S')\n",
    ")"
   ]
  },
  {
   "cell_type": "code",
   "execution_count": 25,
   "metadata": {},
   "outputs": [],
   "source": [
    "# The newest post"
   ]
  },
  {
   "cell_type": "code",
   "execution_count": 26,
   "metadata": {},
   "outputs": [
    {
     "name": "stdout",
     "output_type": "stream",
     "text": [
      "2018-05-29 16:42:14\n"
     ]
    }
   ],
   "source": [
    "print(\n",
    "    datetime.fromtimestamp(\n",
    "        int(desc.created_utc['max'])\n",
    "    ).strftime('%Y-%m-%d %H:%M:%S')\n",
    ")"
   ]
  },
  {
   "cell_type": "code",
   "execution_count": 27,
   "metadata": {},
   "outputs": [
    {
     "data": {
      "text/plain": [
       "1527604959.0"
      ]
     },
     "execution_count": 27,
     "metadata": {},
     "output_type": "execute_result"
    }
   ],
   "source": [
    "np.median(df.created_utc)"
   ]
  },
  {
   "cell_type": "code",
   "execution_count": 28,
   "metadata": {},
   "outputs": [],
   "source": [
    "# Median or the most of posts are posted time. "
   ]
  },
  {
   "cell_type": "code",
   "execution_count": 29,
   "metadata": {},
   "outputs": [
    {
     "name": "stdout",
     "output_type": "stream",
     "text": [
      "2018-05-29 09:42:39\n"
     ]
    }
   ],
   "source": [
    "print(\n",
    "    datetime.fromtimestamp(\n",
    "        int(np.median(df.created_utc))\n",
    "    ).strftime('%Y-%m-%d %H:%M:%S')\n",
    ")"
   ]
  },
  {
   "cell_type": "code",
   "execution_count": 30,
   "metadata": {},
   "outputs": [],
   "source": [
    "df.subreddits.to_csv('subreddits.csv', index=False)"
   ]
  },
  {
   "cell_type": "code",
   "execution_count": 31,
   "metadata": {},
   "outputs": [],
   "source": [
    "from sklearn.feature_extraction.text import CountVectorizer\n",
    "from sklearn.feature_extraction.text import TfidfVectorizer\n",
    "from sklearn.model_selection import train_test_split\n",
    "from sklearn.feature_extraction.text import CountVectorizer\n",
    "from sklearn.naive_bayes import MultinomialNB\n",
    "\n"
   ]
  },
  {
   "cell_type": "code",
   "execution_count": 32,
   "metadata": {},
   "outputs": [],
   "source": [
    "#          HIGH/ LOW CATEGORY IS MY TARGET"
   ]
  },
  {
   "cell_type": "code",
   "execution_count": 33,
   "metadata": {},
   "outputs": [
    {
     "data": {
      "text/plain": [
       "25.0"
      ]
     },
     "execution_count": 33,
     "metadata": {},
     "output_type": "execute_result"
    }
   ],
   "source": [
    "med=np.median(df.num_comments)\n",
    "med"
   ]
  },
  {
   "cell_type": "markdown",
   "metadata": {},
   "source": [
    "#  KNN: score vs target"
   ]
  },
  {
   "cell_type": "code",
   "execution_count": 34,
   "metadata": {},
   "outputs": [],
   "source": [
    "df['target']=df.num_comments.map(lambda x: 1 if x>=med else 0)"
   ]
  },
  {
   "cell_type": "code",
   "execution_count": 35,
   "metadata": {},
   "outputs": [],
   "source": [
    "y=df['target']\n",
    "X=df.scores"
   ]
  },
  {
   "cell_type": "code",
   "execution_count": 51,
   "metadata": {},
   "outputs": [],
   "source": [
    "from sklearn.model_selection import train_test_split\n",
    "from sklearn.neighbors import KNeighborsClassifier\n",
    "from sklearn.preprocessing import StandardScaler\n",
    "from sklearn.model_selection import cross_val_score\n",
    "from sklearn.metrics import classification_report, confusion_matrix, accuracy_score"
   ]
  },
  {
   "cell_type": "code",
   "execution_count": 37,
   "metadata": {},
   "outputs": [
    {
     "name": "stderr",
     "output_type": "stream",
     "text": [
      "/Users/enkhbat/miniconda3/lib/python3.6/site-packages/ipykernel_launcher.py:1: FutureWarning: reshape is deprecated and will raise in a subsequent release. Please use .values.reshape(...) instead\n",
      "  \"\"\"Entry point for launching an IPython kernel.\n"
     ]
    }
   ],
   "source": [
    "X=X.reshape(-1, 1)"
   ]
  },
  {
   "cell_type": "code",
   "execution_count": 38,
   "metadata": {},
   "outputs": [],
   "source": [
    "ss=StandardScaler()"
   ]
  },
  {
   "cell_type": "code",
   "execution_count": 39,
   "metadata": {},
   "outputs": [
    {
     "name": "stderr",
     "output_type": "stream",
     "text": [
      "/Users/enkhbat/miniconda3/lib/python3.6/site-packages/sklearn/utils/validation.py:475: DataConversionWarning: Data with input dtype int64 was converted to float64 by StandardScaler.\n",
      "  warnings.warn(msg, DataConversionWarning)\n"
     ]
    },
    {
     "data": {
      "text/plain": [
       "StandardScaler(copy=True, with_mean=True, with_std=True)"
      ]
     },
     "execution_count": 39,
     "metadata": {},
     "output_type": "execute_result"
    }
   ],
   "source": [
    "ss.fit(X)"
   ]
  },
  {
   "cell_type": "code",
   "execution_count": 40,
   "metadata": {},
   "outputs": [],
   "source": [
    "X_train, X_test, y_train, y_test = train_test_split( X, y, test_size=0.33, random_state=42)"
   ]
  },
  {
   "cell_type": "code",
   "execution_count": 41,
   "metadata": {},
   "outputs": [
    {
     "data": {
      "text/html": [
       "<div>\n",
       "<style scoped>\n",
       "    .dataframe tbody tr th:only-of-type {\n",
       "        vertical-align: middle;\n",
       "    }\n",
       "\n",
       "    .dataframe tbody tr th {\n",
       "        vertical-align: top;\n",
       "    }\n",
       "\n",
       "    .dataframe thead th {\n",
       "        text-align: right;\n",
       "    }\n",
       "</style>\n",
       "<table border=\"1\" class=\"dataframe\">\n",
       "  <thead>\n",
       "    <tr style=\"text-align: right;\">\n",
       "      <th></th>\n",
       "      <th>index</th>\n",
       "      <th>subreddits</th>\n",
       "      <th>num_comments</th>\n",
       "      <th>titles</th>\n",
       "      <th>scores</th>\n",
       "      <th>created_utc</th>\n",
       "      <th>timelength</th>\n",
       "      <th>target</th>\n",
       "    </tr>\n",
       "  </thead>\n",
       "  <tbody>\n",
       "    <tr>\n",
       "      <th>0</th>\n",
       "      <td>0</td>\n",
       "      <td>gifs</td>\n",
       "      <td>1137</td>\n",
       "      <td>Millionaire meets billionaire</td>\n",
       "      <td>18614</td>\n",
       "      <td>1.527624e+09</td>\n",
       "      <td>21.546944</td>\n",
       "      <td>1</td>\n",
       "    </tr>\n",
       "    <tr>\n",
       "      <th>1</th>\n",
       "      <td>1</td>\n",
       "      <td>news</td>\n",
       "      <td>5877</td>\n",
       "      <td>ABC cancels Roseanne Barr's sitcom after her t...</td>\n",
       "      <td>43404</td>\n",
       "      <td>1.527616e+09</td>\n",
       "      <td>19.441944</td>\n",
       "      <td>1</td>\n",
       "    </tr>\n",
       "    <tr>\n",
       "      <th>2</th>\n",
       "      <td>2</td>\n",
       "      <td>television</td>\n",
       "      <td>10083</td>\n",
       "      <td>‘Roseanne’ Cancelled: ABC Scraps Season 11 Aft...</td>\n",
       "      <td>34571</td>\n",
       "      <td>1.527616e+09</td>\n",
       "      <td>19.373056</td>\n",
       "      <td>1</td>\n",
       "    </tr>\n",
       "    <tr>\n",
       "      <th>3</th>\n",
       "      <td>3</td>\n",
       "      <td>mildlyinfuriating</td>\n",
       "      <td>2525</td>\n",
       "      <td>North Face stole my photo and put it on their ...</td>\n",
       "      <td>47738</td>\n",
       "      <td>1.527614e+09</td>\n",
       "      <td>18.789444</td>\n",
       "      <td>1</td>\n",
       "    </tr>\n",
       "    <tr>\n",
       "      <th>4</th>\n",
       "      <td>4</td>\n",
       "      <td>starterpacks</td>\n",
       "      <td>643</td>\n",
       "      <td>Cosplay Starter Pack</td>\n",
       "      <td>14637</td>\n",
       "      <td>1.527616e+09</td>\n",
       "      <td>19.463056</td>\n",
       "      <td>1</td>\n",
       "    </tr>\n",
       "  </tbody>\n",
       "</table>\n",
       "</div>"
      ],
      "text/plain": [
       "   index         subreddits  num_comments  \\\n",
       "0      0               gifs          1137   \n",
       "1      1               news          5877   \n",
       "2      2         television         10083   \n",
       "3      3  mildlyinfuriating          2525   \n",
       "4      4       starterpacks           643   \n",
       "\n",
       "                                              titles  scores   created_utc  \\\n",
       "0                      Millionaire meets billionaire   18614  1.527624e+09   \n",
       "1  ABC cancels Roseanne Barr's sitcom after her t...   43404  1.527616e+09   \n",
       "2  ‘Roseanne’ Cancelled: ABC Scraps Season 11 Aft...   34571  1.527616e+09   \n",
       "3  North Face stole my photo and put it on their ...   47738  1.527614e+09   \n",
       "4                               Cosplay Starter Pack   14637  1.527616e+09   \n",
       "\n",
       "   timelength  target  \n",
       "0   21.546944       1  \n",
       "1   19.441944       1  \n",
       "2   19.373056       1  \n",
       "3   18.789444       1  \n",
       "4   19.463056       1  "
      ]
     },
     "execution_count": 41,
     "metadata": {},
     "output_type": "execute_result"
    }
   ],
   "source": [
    "df.head()"
   ]
  },
  {
   "cell_type": "code",
   "execution_count": 42,
   "metadata": {},
   "outputs": [],
   "source": [
    "knn_10 = KNeighborsClassifier(n_neighbors=10)"
   ]
  },
  {
   "cell_type": "code",
   "execution_count": 43,
   "metadata": {},
   "outputs": [
    {
     "data": {
      "text/plain": [
       "KNeighborsClassifier(algorithm='auto', leaf_size=30, metric='minkowski',\n",
       "           metric_params=None, n_jobs=1, n_neighbors=10, p=2,\n",
       "           weights='uniform')"
      ]
     },
     "execution_count": 43,
     "metadata": {},
     "output_type": "execute_result"
    }
   ],
   "source": [
    "knn_10.fit(X_train, y_train)"
   ]
  },
  {
   "cell_type": "code",
   "execution_count": 44,
   "metadata": {},
   "outputs": [
    {
     "data": {
      "text/plain": [
       "0.7507846829880728"
      ]
     },
     "execution_count": 44,
     "metadata": {},
     "output_type": "execute_result"
    }
   ],
   "source": [
    "knn_10.score(X_train, y_train)"
   ]
  },
  {
   "cell_type": "code",
   "execution_count": 45,
   "metadata": {},
   "outputs": [
    {
     "data": {
      "text/plain": [
       "0.7290076335877863"
      ]
     },
     "execution_count": 45,
     "metadata": {},
     "output_type": "execute_result"
    }
   ],
   "source": [
    "knn_10.score(X_test, y_test)"
   ]
  },
  {
   "cell_type": "code",
   "execution_count": 46,
   "metadata": {},
   "outputs": [],
   "source": [
    "y_pred=knn_10.predict(X_test)"
   ]
  },
  {
   "cell_type": "code",
   "execution_count": 47,
   "metadata": {},
   "outputs": [
    {
     "data": {
      "text/plain": [
       "array([1, 0, 0, 0, 1, 0, 0, 0, 1, 1])"
      ]
     },
     "execution_count": 47,
     "metadata": {},
     "output_type": "execute_result"
    }
   ],
   "source": [
    "y_pred[:10]"
   ]
  },
  {
   "cell_type": "code",
   "execution_count": 48,
   "metadata": {},
   "outputs": [
    {
     "data": {
      "text/plain": [
       "1133    0\n",
       "700     1\n",
       "1025    0\n",
       "1995    0\n",
       "1356    1\n",
       "Name: target, dtype: int64"
      ]
     },
     "execution_count": 48,
     "metadata": {},
     "output_type": "execute_result"
    }
   ],
   "source": [
    "y_test.head()"
   ]
  },
  {
   "cell_type": "code",
   "execution_count": 52,
   "metadata": {},
   "outputs": [],
   "source": [
    "# create dataframe of matrix and add to variable conmat\n",
    "confusion_mat = pd.DataFrame(confusion_matrix(y_test, y_pred), \n",
    "                                              columns=['predicted_High(1)', 'predicted_low(0)'], \n",
    "                      index=['is_High(1)', 'is_Low(0)'])"
   ]
  },
  {
   "cell_type": "code",
   "execution_count": 53,
   "metadata": {
    "scrolled": true
   },
   "outputs": [
    {
     "data": {
      "text/html": [
       "<div>\n",
       "<style scoped>\n",
       "    .dataframe tbody tr th:only-of-type {\n",
       "        vertical-align: middle;\n",
       "    }\n",
       "\n",
       "    .dataframe tbody tr th {\n",
       "        vertical-align: top;\n",
       "    }\n",
       "\n",
       "    .dataframe thead th {\n",
       "        text-align: right;\n",
       "    }\n",
       "</style>\n",
       "<table border=\"1\" class=\"dataframe\">\n",
       "  <thead>\n",
       "    <tr style=\"text-align: right;\">\n",
       "      <th></th>\n",
       "      <th>predicted_High(1)</th>\n",
       "      <th>predicted_low(0)</th>\n",
       "    </tr>\n",
       "  </thead>\n",
       "  <tbody>\n",
       "    <tr>\n",
       "      <th>is_High(1)</th>\n",
       "      <td>314</td>\n",
       "      <td>82</td>\n",
       "    </tr>\n",
       "    <tr>\n",
       "      <th>is_Low(0)</th>\n",
       "      <td>131</td>\n",
       "      <td>259</td>\n",
       "    </tr>\n",
       "  </tbody>\n",
       "</table>\n",
       "</div>"
      ],
      "text/plain": [
       "            predicted_High(1)  predicted_low(0)\n",
       "is_High(1)                314                82\n",
       "is_Low(0)                 131               259"
      ]
     },
     "execution_count": 53,
     "metadata": {},
     "output_type": "execute_result"
    }
   ],
   "source": [
    "confusion_mat"
   ]
  },
  {
   "cell_type": "code",
   "execution_count": 54,
   "metadata": {},
   "outputs": [
    {
     "name": "stdout",
     "output_type": "stream",
     "text": [
      "\n",
      "Classification Report:\n",
      "              precision    recall  f1-score   support\n",
      "\n",
      "          0       0.71      0.79      0.75       396\n",
      "          1       0.76      0.66      0.71       390\n",
      "\n",
      "avg / total       0.73      0.73      0.73       786\n",
      "\n"
     ]
    }
   ],
   "source": [
    "print(\"\\nClassification Report:\\n\",classification_report(y_test, y_pred))\n",
    "# recall is sensetivity, shows confusion matrix scoring"
   ]
  },
  {
   "cell_type": "markdown",
   "metadata": {},
   "source": [
    "# KNN: subreddit vs target"
   ]
  },
  {
   "cell_type": "code",
   "execution_count": 135,
   "metadata": {},
   "outputs": [],
   "source": [
    "#reset x and y to high/low and subreddit#reset x a \n",
    "y = df['target']\n",
    "X = df['subreddits']\n",
    "\n",
    "cvec = CountVectorizer(stop_words = 'english') \n",
    "\n",
    "X  = pd.DataFrame(cvec.fit_transform(X).todense(),\n",
    "             columns=cvec.get_feature_names())"
   ]
  },
  {
   "cell_type": "code",
   "execution_count": 136,
   "metadata": {},
   "outputs": [
    {
     "data": {
      "text/plain": [
       "array([[-0.02050662, -0.02050662, -0.02050662, ..., -0.02050662,\n",
       "        -0.02900684, -0.02050662],\n",
       "       [-0.02050662, -0.02050662, -0.02050662, ..., -0.02050662,\n",
       "        -0.02900684, -0.02050662],\n",
       "       [-0.02050662, -0.02050662, -0.02050662, ..., -0.02050662,\n",
       "        -0.02900684, -0.02050662],\n",
       "       ...,\n",
       "       [-0.02050662, -0.02050662, -0.02050662, ..., -0.02050662,\n",
       "        -0.02900684, -0.02050662],\n",
       "       [-0.02050662, -0.02050662, -0.02050662, ..., -0.02050662,\n",
       "        -0.02900684, -0.02050662],\n",
       "       [-0.02050662, -0.02050662, -0.02050662, ..., -0.02050662,\n",
       "        -0.02900684, -0.02050662]])"
      ]
     },
     "execution_count": 136,
     "metadata": {},
     "output_type": "execute_result"
    }
   ],
   "source": [
    "# Put it into  standard scalar# Put it i \n",
    "from sklearn.preprocessing import StandardScaler\n",
    "\n",
    "ss = StandardScaler()\n",
    "Xs = ss.fit_transform(X)\n",
    "type(Xs)\n",
    "Xs"
   ]
  },
  {
   "cell_type": "code",
   "execution_count": 137,
   "metadata": {},
   "outputs": [],
   "source": [
    "Xs=pd.DataFrame(Xs)\n"
   ]
  },
  {
   "cell_type": "code",
   "execution_count": 138,
   "metadata": {},
   "outputs": [],
   "source": [
    "Xs.to_csv('just_subreddit', index=False)"
   ]
  },
  {
   "cell_type": "code",
   "execution_count": 139,
   "metadata": {},
   "outputs": [
    {
     "data": {
      "text/plain": [
       "array([[-0.02050662, -0.02050662, -0.02050662, ..., -0.02050662,\n",
       "        -0.02900684, -0.02050662],\n",
       "       [-0.02050662, -0.02050662, -0.02050662, ..., -0.02050662,\n",
       "        -0.02900684, -0.02050662],\n",
       "       [-0.02050662, -0.02050662, -0.02050662, ..., -0.02050662,\n",
       "        -0.02900684, -0.02050662],\n",
       "       ...,\n",
       "       [-0.02050662, -0.02050662, -0.02050662, ..., -0.02050662,\n",
       "        -0.02900684, -0.02050662],\n",
       "       [-0.02050662, -0.02050662, -0.02050662, ..., -0.02050662,\n",
       "        -0.02900684, -0.02050662],\n",
       "       [-0.02050662, -0.02050662, -0.02050662, ..., -0.02050662,\n",
       "        -0.02900684, -0.02050662]])"
      ]
     },
     "execution_count": 139,
     "metadata": {},
     "output_type": "execute_result"
    }
   ],
   "source": [
    "ss = StandardScaler()\n",
    "X = ss.fit_transform(X)\n",
    "type(X)\n",
    "X"
   ]
  },
  {
   "cell_type": "code",
   "execution_count": 140,
   "metadata": {},
   "outputs": [],
   "source": [
    "X_train, X_test, y_train, y_test = train_test_split(X, y, test_size = 0.3)"
   ]
  },
  {
   "cell_type": "code",
   "execution_count": null,
   "metadata": {},
   "outputs": [],
   "source": []
  },
  {
   "cell_type": "code",
   "execution_count": 141,
   "metadata": {},
   "outputs": [
    {
     "data": {
      "text/plain": [
       "(0.49249247082736736, 0.001644832262915285)"
      ]
     },
     "execution_count": 141,
     "metadata": {},
     "output_type": "execute_result"
    }
   ],
   "source": [
    "knn3 = KNeighborsClassifier( n_neighbors=3,  \n",
    "                           weights='uniform')\n",
    "scores = cross_val_score(knn3,  X_train, y_train,  cv=5)\n",
    "knn3.fit(X_train, y_train)\n",
    "np.mean(scores), np.std(scores)"
   ]
  },
  {
   "cell_type": "code",
   "execution_count": 65,
   "metadata": {},
   "outputs": [
    {
     "data": {
      "text/plain": [
       "(0.525214222397321, 0.00147739584359301)"
      ]
     },
     "execution_count": 65,
     "metadata": {},
     "output_type": "execute_result"
    }
   ],
   "source": [
    "knn3 = KNeighborsClassifier( n_neighbors=3,  \n",
    "                           weights='uniform')\n",
    "scores = cross_val_score(knn3,  X_test, y_test,  cv=5)\n",
    "np.mean(scores), np.std(scores)"
   ]
  },
  {
   "cell_type": "code",
   "execution_count": null,
   "metadata": {},
   "outputs": [],
   "source": []
  },
  {
   "cell_type": "code",
   "execution_count": 70,
   "metadata": {},
   "outputs": [],
   "source": [
    "y_pred=knn3.predict(X_test)"
   ]
  },
  {
   "cell_type": "code",
   "execution_count": 71,
   "metadata": {},
   "outputs": [],
   "source": [
    "# create dataframe of matrix and add to variable conmat\n",
    "confusion_mat = pd.DataFrame(confusion_matrix(y_test, y_pred), \n",
    "                                              columns=['predicted_High(1)', 'predicted_low(0)'], \n",
    "                      index=['is_High(1)', 'is_Low(0)'])"
   ]
  },
  {
   "cell_type": "code",
   "execution_count": 72,
   "metadata": {},
   "outputs": [
    {
     "data": {
      "text/html": [
       "<div>\n",
       "<style scoped>\n",
       "    .dataframe tbody tr th:only-of-type {\n",
       "        vertical-align: middle;\n",
       "    }\n",
       "\n",
       "    .dataframe tbody tr th {\n",
       "        vertical-align: top;\n",
       "    }\n",
       "\n",
       "    .dataframe thead th {\n",
       "        text-align: right;\n",
       "    }\n",
       "</style>\n",
       "<table border=\"1\" class=\"dataframe\">\n",
       "  <thead>\n",
       "    <tr style=\"text-align: right;\">\n",
       "      <th></th>\n",
       "      <th>predicted_High(1)</th>\n",
       "      <th>predicted_low(0)</th>\n",
       "    </tr>\n",
       "  </thead>\n",
       "  <tbody>\n",
       "    <tr>\n",
       "      <th>is_High(1)</th>\n",
       "      <td>0</td>\n",
       "      <td>339</td>\n",
       "    </tr>\n",
       "    <tr>\n",
       "      <th>is_Low(0)</th>\n",
       "      <td>1</td>\n",
       "      <td>374</td>\n",
       "    </tr>\n",
       "  </tbody>\n",
       "</table>\n",
       "</div>"
      ],
      "text/plain": [
       "            predicted_High(1)  predicted_low(0)\n",
       "is_High(1)                  0               339\n",
       "is_Low(0)                   1               374"
      ]
     },
     "execution_count": 72,
     "metadata": {},
     "output_type": "execute_result"
    }
   ],
   "source": [
    "confusion_mat"
   ]
  },
  {
   "cell_type": "code",
   "execution_count": null,
   "metadata": {},
   "outputs": [],
   "source": [
    "print(\"\\nClassification Report:\\n\",classification_report(y_test, y_pred))\n",
    "# recall is sensetivity, shows confusion matrix scoring"
   ]
  },
  {
   "cell_type": "markdown",
   "metadata": {},
   "source": [
    "# KNN: title vs target"
   ]
  },
  {
   "cell_type": "code",
   "execution_count": 114,
   "metadata": {},
   "outputs": [],
   "source": [
    "import regex as re\n",
    "from nltk.corpus import stopwords"
   ]
  },
  {
   "cell_type": "code",
   "execution_count": 115,
   "metadata": {},
   "outputs": [],
   "source": [
    "X=df.titles\n",
    "y=df.target"
   ]
  },
  {
   "cell_type": "code",
   "execution_count": 116,
   "metadata": {},
   "outputs": [],
   "source": [
    "X.to_csv('just_title', index=False)"
   ]
  },
  {
   "cell_type": "code",
   "execution_count": 117,
   "metadata": {},
   "outputs": [],
   "source": [
    "def review_to_words(raw_review):\n",
    "    # remove non words\n",
    "    letters_only = X.map(lambda x:re.sub(\"[^a-zA-Z0-9]\", \" \", x))\n",
    "    # make lower letters\n",
    "    words = letters_only.map(lambda x: x.lower().split())\n",
    "    # declare stop wors\n",
    "    stops = list(set(stopwords.words('english')))\n",
    "    # remove stop wors\n",
    "    clean_words = words.map(lambda x:x if not x in stops else words)\n",
    "    return(clean_words)"
   ]
  },
  {
   "cell_type": "code",
   "execution_count": 118,
   "metadata": {},
   "outputs": [],
   "source": [
    "X=review_to_words(X)"
   ]
  },
  {
   "cell_type": "code",
   "execution_count": 119,
   "metadata": {},
   "outputs": [],
   "source": [
    "new_values = []\n",
    "for i in X.values:\n",
    "    new_values.append(\" \".join(i))"
   ]
  },
  {
   "cell_type": "code",
   "execution_count": 120,
   "metadata": {},
   "outputs": [],
   "source": [
    "x_dict = {'text':X.values, 'joined_text':new_values}"
   ]
  },
  {
   "cell_type": "code",
   "execution_count": 121,
   "metadata": {},
   "outputs": [],
   "source": [
    "new_df = pd.DataFrame(x_dict)"
   ]
  },
  {
   "cell_type": "code",
   "execution_count": 122,
   "metadata": {},
   "outputs": [],
   "source": [
    "key_words=['roseanne' 'cancelled' 'abc' 'scraps' 'seaso']"
   ]
  },
  {
   "cell_type": "code",
   "execution_count": 123,
   "metadata": {
    "scrolled": false
   },
   "outputs": [
    {
     "data": {
      "text/html": [
       "<div>\n",
       "<style scoped>\n",
       "    .dataframe tbody tr th:only-of-type {\n",
       "        vertical-align: middle;\n",
       "    }\n",
       "\n",
       "    .dataframe tbody tr th {\n",
       "        vertical-align: top;\n",
       "    }\n",
       "\n",
       "    .dataframe thead th {\n",
       "        text-align: right;\n",
       "    }\n",
       "</style>\n",
       "<table border=\"1\" class=\"dataframe\">\n",
       "  <thead>\n",
       "    <tr style=\"text-align: right;\">\n",
       "      <th></th>\n",
       "      <th>joined_text</th>\n",
       "      <th>text</th>\n",
       "    </tr>\n",
       "  </thead>\n",
       "  <tbody>\n",
       "    <tr>\n",
       "      <th>0</th>\n",
       "      <td>millionaire meets billionaire</td>\n",
       "      <td>[millionaire, meets, billionaire]</td>\n",
       "    </tr>\n",
       "    <tr>\n",
       "      <th>1</th>\n",
       "      <td>abc cancels roseanne barr s sitcom after her t...</td>\n",
       "      <td>[abc, cancels, roseanne, barr, s, sitcom, afte...</td>\n",
       "    </tr>\n",
       "    <tr>\n",
       "      <th>2</th>\n",
       "      <td>roseanne cancelled abc scraps season 11 after ...</td>\n",
       "      <td>[roseanne, cancelled, abc, scraps, season, 11,...</td>\n",
       "    </tr>\n",
       "    <tr>\n",
       "      <th>3</th>\n",
       "      <td>north face stole my photo and put it on their ...</td>\n",
       "      <td>[north, face, stole, my, photo, and, put, it, ...</td>\n",
       "    </tr>\n",
       "    <tr>\n",
       "      <th>4</th>\n",
       "      <td>cosplay starter pack</td>\n",
       "      <td>[cosplay, starter, pack]</td>\n",
       "    </tr>\n",
       "  </tbody>\n",
       "</table>\n",
       "</div>"
      ],
      "text/plain": [
       "                                         joined_text  \\\n",
       "0                      millionaire meets billionaire   \n",
       "1  abc cancels roseanne barr s sitcom after her t...   \n",
       "2  roseanne cancelled abc scraps season 11 after ...   \n",
       "3  north face stole my photo and put it on their ...   \n",
       "4                               cosplay starter pack   \n",
       "\n",
       "                                                text  \n",
       "0                  [millionaire, meets, billionaire]  \n",
       "1  [abc, cancels, roseanne, barr, s, sitcom, afte...  \n",
       "2  [roseanne, cancelled, abc, scraps, season, 11,...  \n",
       "3  [north, face, stole, my, photo, and, put, it, ...  \n",
       "4                           [cosplay, starter, pack]  "
      ]
     },
     "execution_count": 123,
     "metadata": {},
     "output_type": "execute_result"
    }
   ],
   "source": [
    "new_df.head()"
   ]
  },
  {
   "cell_type": "code",
   "execution_count": 124,
   "metadata": {},
   "outputs": [],
   "source": [
    "# new_df['cols']=[new_df.joined_text.map(lambda x: True if x in key_words else 0)]"
   ]
  },
  {
   "cell_type": "code",
   "execution_count": 125,
   "metadata": {},
   "outputs": [],
   "source": [
    "# Vectorize\n",
    "cvec = CountVectorizer(stop_words='english')\n",
    " \n",
    "\n",
    "X  = pd.DataFrame(cvec.fit_transform(new_df.joined_text).todense(),\n",
    "             columns=cvec.get_feature_names())"
   ]
  },
  {
   "cell_type": "code",
   "execution_count": 126,
   "metadata": {
    "scrolled": true
   },
   "outputs": [
    {
     "data": {
      "text/html": [
       "<div>\n",
       "<style scoped>\n",
       "    .dataframe tbody tr th:only-of-type {\n",
       "        vertical-align: middle;\n",
       "    }\n",
       "\n",
       "    .dataframe tbody tr th {\n",
       "        vertical-align: top;\n",
       "    }\n",
       "\n",
       "    .dataframe thead th {\n",
       "        text-align: right;\n",
       "    }\n",
       "</style>\n",
       "<table border=\"1\" class=\"dataframe\">\n",
       "  <thead>\n",
       "    <tr style=\"text-align: right;\">\n",
       "      <th></th>\n",
       "      <th>00</th>\n",
       "      <th>000</th>\n",
       "      <th>00am</th>\n",
       "      <th>01m</th>\n",
       "      <th>03</th>\n",
       "      <th>07</th>\n",
       "      <th>09</th>\n",
       "      <th>10</th>\n",
       "      <th>100</th>\n",
       "      <th>100k</th>\n",
       "      <th>...</th>\n",
       "      <th>zhongwei</th>\n",
       "      <th>zijn</th>\n",
       "      <th>zofia</th>\n",
       "      <th>zonable</th>\n",
       "      <th>zoo</th>\n",
       "      <th>zoomies</th>\n",
       "      <th>zoro</th>\n",
       "      <th>zorro</th>\n",
       "      <th>zr</th>\n",
       "      <th>ztd</th>\n",
       "    </tr>\n",
       "  </thead>\n",
       "  <tbody>\n",
       "    <tr>\n",
       "      <th>0</th>\n",
       "      <td>0</td>\n",
       "      <td>0</td>\n",
       "      <td>0</td>\n",
       "      <td>0</td>\n",
       "      <td>0</td>\n",
       "      <td>0</td>\n",
       "      <td>0</td>\n",
       "      <td>0</td>\n",
       "      <td>0</td>\n",
       "      <td>0</td>\n",
       "      <td>...</td>\n",
       "      <td>0</td>\n",
       "      <td>0</td>\n",
       "      <td>0</td>\n",
       "      <td>0</td>\n",
       "      <td>0</td>\n",
       "      <td>0</td>\n",
       "      <td>0</td>\n",
       "      <td>0</td>\n",
       "      <td>0</td>\n",
       "      <td>0</td>\n",
       "    </tr>\n",
       "    <tr>\n",
       "      <th>1</th>\n",
       "      <td>0</td>\n",
       "      <td>0</td>\n",
       "      <td>0</td>\n",
       "      <td>0</td>\n",
       "      <td>0</td>\n",
       "      <td>0</td>\n",
       "      <td>0</td>\n",
       "      <td>0</td>\n",
       "      <td>0</td>\n",
       "      <td>0</td>\n",
       "      <td>...</td>\n",
       "      <td>0</td>\n",
       "      <td>0</td>\n",
       "      <td>0</td>\n",
       "      <td>0</td>\n",
       "      <td>0</td>\n",
       "      <td>0</td>\n",
       "      <td>0</td>\n",
       "      <td>0</td>\n",
       "      <td>0</td>\n",
       "      <td>0</td>\n",
       "    </tr>\n",
       "    <tr>\n",
       "      <th>2</th>\n",
       "      <td>0</td>\n",
       "      <td>0</td>\n",
       "      <td>0</td>\n",
       "      <td>0</td>\n",
       "      <td>0</td>\n",
       "      <td>0</td>\n",
       "      <td>0</td>\n",
       "      <td>0</td>\n",
       "      <td>0</td>\n",
       "      <td>0</td>\n",
       "      <td>...</td>\n",
       "      <td>0</td>\n",
       "      <td>0</td>\n",
       "      <td>0</td>\n",
       "      <td>0</td>\n",
       "      <td>0</td>\n",
       "      <td>0</td>\n",
       "      <td>0</td>\n",
       "      <td>0</td>\n",
       "      <td>0</td>\n",
       "      <td>0</td>\n",
       "    </tr>\n",
       "    <tr>\n",
       "      <th>3</th>\n",
       "      <td>0</td>\n",
       "      <td>0</td>\n",
       "      <td>0</td>\n",
       "      <td>0</td>\n",
       "      <td>0</td>\n",
       "      <td>0</td>\n",
       "      <td>0</td>\n",
       "      <td>0</td>\n",
       "      <td>0</td>\n",
       "      <td>0</td>\n",
       "      <td>...</td>\n",
       "      <td>0</td>\n",
       "      <td>0</td>\n",
       "      <td>0</td>\n",
       "      <td>0</td>\n",
       "      <td>0</td>\n",
       "      <td>0</td>\n",
       "      <td>0</td>\n",
       "      <td>0</td>\n",
       "      <td>0</td>\n",
       "      <td>0</td>\n",
       "    </tr>\n",
       "    <tr>\n",
       "      <th>4</th>\n",
       "      <td>0</td>\n",
       "      <td>0</td>\n",
       "      <td>0</td>\n",
       "      <td>0</td>\n",
       "      <td>0</td>\n",
       "      <td>0</td>\n",
       "      <td>0</td>\n",
       "      <td>0</td>\n",
       "      <td>0</td>\n",
       "      <td>0</td>\n",
       "      <td>...</td>\n",
       "      <td>0</td>\n",
       "      <td>0</td>\n",
       "      <td>0</td>\n",
       "      <td>0</td>\n",
       "      <td>0</td>\n",
       "      <td>0</td>\n",
       "      <td>0</td>\n",
       "      <td>0</td>\n",
       "      <td>0</td>\n",
       "      <td>0</td>\n",
       "    </tr>\n",
       "  </tbody>\n",
       "</table>\n",
       "<p>5 rows × 6736 columns</p>\n",
       "</div>"
      ],
      "text/plain": [
       "   00  000  00am  01m  03  07  09  10  100  100k ...   zhongwei  zijn  zofia  \\\n",
       "0   0    0     0    0   0   0   0   0    0     0 ...          0     0      0   \n",
       "1   0    0     0    0   0   0   0   0    0     0 ...          0     0      0   \n",
       "2   0    0     0    0   0   0   0   0    0     0 ...          0     0      0   \n",
       "3   0    0     0    0   0   0   0   0    0     0 ...          0     0      0   \n",
       "4   0    0     0    0   0   0   0   0    0     0 ...          0     0      0   \n",
       "\n",
       "   zonable  zoo  zoomies  zoro  zorro  zr  ztd  \n",
       "0        0    0        0     0      0   0    0  \n",
       "1        0    0        0     0      0   0    0  \n",
       "2        0    0        0     0      0   0    0  \n",
       "3        0    0        0     0      0   0    0  \n",
       "4        0    0        0     0      0   0    0  \n",
       "\n",
       "[5 rows x 6736 columns]"
      ]
     },
     "execution_count": 126,
     "metadata": {},
     "output_type": "execute_result"
    }
   ],
   "source": [
    "X.head()"
   ]
  },
  {
   "cell_type": "code",
   "execution_count": 128,
   "metadata": {},
   "outputs": [],
   "source": [
    "# X.to_csv('title_no_scaler', index=False)"
   ]
  },
  {
   "cell_type": "code",
   "execution_count": 129,
   "metadata": {},
   "outputs": [
    {
     "data": {
      "text/plain": [
       "array([[-0.03553345, -0.05572141, -0.02050662, ..., -0.02050662,\n",
       "        -0.02050662, -0.02050662],\n",
       "       [-0.03553345, -0.05572141, -0.02050662, ..., -0.02050662,\n",
       "        -0.02050662, -0.02050662],\n",
       "       [-0.03553345, -0.05572141, -0.02050662, ..., -0.02050662,\n",
       "        -0.02050662, -0.02050662],\n",
       "       ...,\n",
       "       [-0.03553345, -0.05572141, -0.02050662, ..., -0.02050662,\n",
       "        -0.02050662, -0.02050662],\n",
       "       [-0.03553345, -0.05572141, -0.02050662, ..., -0.02050662,\n",
       "        -0.02050662, -0.02050662],\n",
       "       [-0.03553345, -0.05572141, -0.02050662, ..., -0.02050662,\n",
       "        -0.02050662, -0.02050662]])"
      ]
     },
     "execution_count": 129,
     "metadata": {},
     "output_type": "execute_result"
    }
   ],
   "source": [
    "ss = StandardScaler()\n",
    "Xt = ss.fit_transform(X)\n",
    "type(Xt)\n",
    "Xt"
   ]
  },
  {
   "cell_type": "code",
   "execution_count": 130,
   "metadata": {},
   "outputs": [
    {
     "name": "stdout",
     "output_type": "stream",
     "text": [
      "[2379, 2379]\n"
     ]
    }
   ],
   "source": [
    "# final sise check\n",
    "print([X.shape[0],y.shape[0]])"
   ]
  },
  {
   "cell_type": "code",
   "execution_count": 131,
   "metadata": {},
   "outputs": [],
   "source": [
    "# X_train, X_test, y_train, y_test = train_test_split(Xs, y, test_size=0.33, random_state=42)"
   ]
  },
  {
   "cell_type": "code",
   "execution_count": 132,
   "metadata": {},
   "outputs": [
    {
     "data": {
      "text/plain": [
       "KNeighborsClassifier(algorithm='auto', leaf_size=30, metric='minkowski',\n",
       "           metric_params=None, n_jobs=1, n_neighbors=3, p=2,\n",
       "           weights='uniform')"
      ]
     },
     "execution_count": 132,
     "metadata": {},
     "output_type": "execute_result"
    }
   ],
   "source": [
    "knn3.fit(X_train, y_train)"
   ]
  },
  {
   "cell_type": "code",
   "execution_count": 133,
   "metadata": {
    "scrolled": true
   },
   "outputs": [],
   "source": [
    "y_pred=knn3.predict(X_test)"
   ]
  },
  {
   "cell_type": "code",
   "execution_count": 134,
   "metadata": {
    "scrolled": true
   },
   "outputs": [
    {
     "data": {
      "text/html": [
       "<div>\n",
       "<style scoped>\n",
       "    .dataframe tbody tr th:only-of-type {\n",
       "        vertical-align: middle;\n",
       "    }\n",
       "\n",
       "    .dataframe tbody tr th {\n",
       "        vertical-align: top;\n",
       "    }\n",
       "\n",
       "    .dataframe thead th {\n",
       "        text-align: right;\n",
       "    }\n",
       "</style>\n",
       "<table border=\"1\" class=\"dataframe\">\n",
       "  <thead>\n",
       "    <tr style=\"text-align: right;\">\n",
       "      <th></th>\n",
       "      <th>predicted_High(1)</th>\n",
       "      <th>predicted_low(0)</th>\n",
       "    </tr>\n",
       "  </thead>\n",
       "  <tbody>\n",
       "    <tr>\n",
       "      <th>is_High(1)</th>\n",
       "      <td>321</td>\n",
       "      <td>75</td>\n",
       "    </tr>\n",
       "    <tr>\n",
       "      <th>is_Low(0)</th>\n",
       "      <td>143</td>\n",
       "      <td>247</td>\n",
       "    </tr>\n",
       "  </tbody>\n",
       "</table>\n",
       "</div>"
      ],
      "text/plain": [
       "            predicted_High(1)  predicted_low(0)\n",
       "is_High(1)                321                75\n",
       "is_Low(0)                 143               247"
      ]
     },
     "execution_count": 134,
     "metadata": {},
     "output_type": "execute_result"
    }
   ],
   "source": [
    "# create dataframe of matrix and add to variable conmat\n",
    "confusion_mat = pd.DataFrame(confusion_matrix(y_test, y_pred), \n",
    "                                              columns=['predicted_High(1)', 'predicted_low(0)'], \n",
    "                      index=['is_High(1)', 'is_Low(0)'])\n",
    "\n",
    "\n",
    "\n",
    "confusion_mat"
   ]
  },
  {
   "cell_type": "code",
   "execution_count": 93,
   "metadata": {},
   "outputs": [
    {
     "name": "stdout",
     "output_type": "stream",
     "text": [
      "\n",
      "Classification Report:\n",
      "              precision    recall  f1-score   support\n",
      "\n",
      "          0       0.00      0.00      0.00       339\n",
      "          1       0.52      1.00      0.69       375\n",
      "\n",
      "avg / total       0.28      0.52      0.36       714\n",
      "\n"
     ]
    }
   ],
   "source": [
    "print(\"\\nClassification Report:\\n\",classification_report(y_test, y_pred))\n",
    "# recall is sensetivity, shows confusion matrix scoring"
   ]
  },
  {
   "cell_type": "code",
   "execution_count": null,
   "metadata": {},
   "outputs": [],
   "source": [
    "print()"
   ]
  },
  {
   "cell_type": "code",
   "execution_count": 94,
   "metadata": {},
   "outputs": [
    {
     "data": {
      "text/html": [
       "<div>\n",
       "<style scoped>\n",
       "    .dataframe tbody tr th:only-of-type {\n",
       "        vertical-align: middle;\n",
       "    }\n",
       "\n",
       "    .dataframe tbody tr th {\n",
       "        vertical-align: top;\n",
       "    }\n",
       "\n",
       "    .dataframe thead th {\n",
       "        text-align: right;\n",
       "    }\n",
       "</style>\n",
       "<table border=\"1\" class=\"dataframe\">\n",
       "  <thead>\n",
       "    <tr style=\"text-align: right;\">\n",
       "      <th></th>\n",
       "      <th>00</th>\n",
       "      <th>000</th>\n",
       "      <th>00am</th>\n",
       "      <th>01m</th>\n",
       "      <th>03</th>\n",
       "      <th>07</th>\n",
       "      <th>09</th>\n",
       "      <th>10</th>\n",
       "      <th>100</th>\n",
       "      <th>100k</th>\n",
       "      <th>...</th>\n",
       "      <th>zhongwei</th>\n",
       "      <th>zijn</th>\n",
       "      <th>zofia</th>\n",
       "      <th>zonable</th>\n",
       "      <th>zoo</th>\n",
       "      <th>zoomies</th>\n",
       "      <th>zoro</th>\n",
       "      <th>zorro</th>\n",
       "      <th>zr</th>\n",
       "      <th>ztd</th>\n",
       "    </tr>\n",
       "  </thead>\n",
       "  <tbody>\n",
       "    <tr>\n",
       "      <th>0</th>\n",
       "      <td>0</td>\n",
       "      <td>0</td>\n",
       "      <td>0</td>\n",
       "      <td>0</td>\n",
       "      <td>0</td>\n",
       "      <td>0</td>\n",
       "      <td>0</td>\n",
       "      <td>0</td>\n",
       "      <td>0</td>\n",
       "      <td>0</td>\n",
       "      <td>...</td>\n",
       "      <td>0</td>\n",
       "      <td>0</td>\n",
       "      <td>0</td>\n",
       "      <td>0</td>\n",
       "      <td>0</td>\n",
       "      <td>0</td>\n",
       "      <td>0</td>\n",
       "      <td>0</td>\n",
       "      <td>0</td>\n",
       "      <td>0</td>\n",
       "    </tr>\n",
       "    <tr>\n",
       "      <th>1</th>\n",
       "      <td>0</td>\n",
       "      <td>0</td>\n",
       "      <td>0</td>\n",
       "      <td>0</td>\n",
       "      <td>0</td>\n",
       "      <td>0</td>\n",
       "      <td>0</td>\n",
       "      <td>0</td>\n",
       "      <td>0</td>\n",
       "      <td>0</td>\n",
       "      <td>...</td>\n",
       "      <td>0</td>\n",
       "      <td>0</td>\n",
       "      <td>0</td>\n",
       "      <td>0</td>\n",
       "      <td>0</td>\n",
       "      <td>0</td>\n",
       "      <td>0</td>\n",
       "      <td>0</td>\n",
       "      <td>0</td>\n",
       "      <td>0</td>\n",
       "    </tr>\n",
       "    <tr>\n",
       "      <th>2</th>\n",
       "      <td>0</td>\n",
       "      <td>0</td>\n",
       "      <td>0</td>\n",
       "      <td>0</td>\n",
       "      <td>0</td>\n",
       "      <td>0</td>\n",
       "      <td>0</td>\n",
       "      <td>0</td>\n",
       "      <td>0</td>\n",
       "      <td>0</td>\n",
       "      <td>...</td>\n",
       "      <td>0</td>\n",
       "      <td>0</td>\n",
       "      <td>0</td>\n",
       "      <td>0</td>\n",
       "      <td>0</td>\n",
       "      <td>0</td>\n",
       "      <td>0</td>\n",
       "      <td>0</td>\n",
       "      <td>0</td>\n",
       "      <td>0</td>\n",
       "    </tr>\n",
       "    <tr>\n",
       "      <th>3</th>\n",
       "      <td>0</td>\n",
       "      <td>0</td>\n",
       "      <td>0</td>\n",
       "      <td>0</td>\n",
       "      <td>0</td>\n",
       "      <td>0</td>\n",
       "      <td>0</td>\n",
       "      <td>0</td>\n",
       "      <td>0</td>\n",
       "      <td>0</td>\n",
       "      <td>...</td>\n",
       "      <td>0</td>\n",
       "      <td>0</td>\n",
       "      <td>0</td>\n",
       "      <td>0</td>\n",
       "      <td>0</td>\n",
       "      <td>0</td>\n",
       "      <td>0</td>\n",
       "      <td>0</td>\n",
       "      <td>0</td>\n",
       "      <td>0</td>\n",
       "    </tr>\n",
       "    <tr>\n",
       "      <th>4</th>\n",
       "      <td>0</td>\n",
       "      <td>0</td>\n",
       "      <td>0</td>\n",
       "      <td>0</td>\n",
       "      <td>0</td>\n",
       "      <td>0</td>\n",
       "      <td>0</td>\n",
       "      <td>0</td>\n",
       "      <td>0</td>\n",
       "      <td>0</td>\n",
       "      <td>...</td>\n",
       "      <td>0</td>\n",
       "      <td>0</td>\n",
       "      <td>0</td>\n",
       "      <td>0</td>\n",
       "      <td>0</td>\n",
       "      <td>0</td>\n",
       "      <td>0</td>\n",
       "      <td>0</td>\n",
       "      <td>0</td>\n",
       "      <td>0</td>\n",
       "    </tr>\n",
       "  </tbody>\n",
       "</table>\n",
       "<p>5 rows × 6736 columns</p>\n",
       "</div>"
      ],
      "text/plain": [
       "   00  000  00am  01m  03  07  09  10  100  100k ...   zhongwei  zijn  zofia  \\\n",
       "0   0    0     0    0   0   0   0   0    0     0 ...          0     0      0   \n",
       "1   0    0     0    0   0   0   0   0    0     0 ...          0     0      0   \n",
       "2   0    0     0    0   0   0   0   0    0     0 ...          0     0      0   \n",
       "3   0    0     0    0   0   0   0   0    0     0 ...          0     0      0   \n",
       "4   0    0     0    0   0   0   0   0    0     0 ...          0     0      0   \n",
       "\n",
       "   zonable  zoo  zoomies  zoro  zorro  zr  ztd  \n",
       "0        0    0        0     0      0   0    0  \n",
       "1        0    0        0     0      0   0    0  \n",
       "2        0    0        0     0      0   0    0  \n",
       "3        0    0        0     0      0   0    0  \n",
       "4        0    0        0     0      0   0    0  \n",
       "\n",
       "[5 rows x 6736 columns]"
      ]
     },
     "execution_count": 94,
     "metadata": {},
     "output_type": "execute_result"
    }
   ],
   "source": [
    "X.head()"
   ]
  },
  {
   "cell_type": "code",
   "execution_count": 95,
   "metadata": {},
   "outputs": [],
   "source": [
    "Xt=pd.DataFrame(Xt)"
   ]
  },
  {
   "cell_type": "code",
   "execution_count": null,
   "metadata": {},
   "outputs": [],
   "source": []
  },
  {
   "cell_type": "code",
   "execution_count": 96,
   "metadata": {},
   "outputs": [],
   "source": [
    "df_1=pd.DataFrame(df.scores)"
   ]
  },
  {
   "cell_type": "code",
   "execution_count": 97,
   "metadata": {},
   "outputs": [
    {
     "data": {
      "text/plain": [
       "(2379, 1)"
      ]
     },
     "execution_count": 97,
     "metadata": {},
     "output_type": "execute_result"
    }
   ],
   "source": [
    "df_1.shape"
   ]
  },
  {
   "cell_type": "code",
   "execution_count": 98,
   "metadata": {
    "scrolled": true
   },
   "outputs": [],
   "source": [
    "df_con=pd.concat([df_1, Xt], axis=1)"
   ]
  },
  {
   "cell_type": "code",
   "execution_count": 99,
   "metadata": {},
   "outputs": [
    {
     "data": {
      "text/plain": [
       "(2379, 6737)"
      ]
     },
     "execution_count": 99,
     "metadata": {},
     "output_type": "execute_result"
    }
   ],
   "source": [
    "df_con.shape"
   ]
  },
  {
   "cell_type": "code",
   "execution_count": 100,
   "metadata": {},
   "outputs": [],
   "source": [
    "df_con.to_csv('titles_scores', index=False)"
   ]
  },
  {
   "cell_type": "code",
   "execution_count": 101,
   "metadata": {},
   "outputs": [
    {
     "data": {
      "text/html": [
       "<div>\n",
       "<style scoped>\n",
       "    .dataframe tbody tr th:only-of-type {\n",
       "        vertical-align: middle;\n",
       "    }\n",
       "\n",
       "    .dataframe tbody tr th {\n",
       "        vertical-align: top;\n",
       "    }\n",
       "\n",
       "    .dataframe thead th {\n",
       "        text-align: right;\n",
       "    }\n",
       "</style>\n",
       "<table border=\"1\" class=\"dataframe\">\n",
       "  <thead>\n",
       "    <tr style=\"text-align: right;\">\n",
       "      <th></th>\n",
       "      <th>scores</th>\n",
       "      <th>0</th>\n",
       "      <th>1</th>\n",
       "      <th>2</th>\n",
       "      <th>3</th>\n",
       "      <th>4</th>\n",
       "      <th>5</th>\n",
       "      <th>6</th>\n",
       "      <th>7</th>\n",
       "      <th>8</th>\n",
       "      <th>...</th>\n",
       "      <th>6726</th>\n",
       "      <th>6727</th>\n",
       "      <th>6728</th>\n",
       "      <th>6729</th>\n",
       "      <th>6730</th>\n",
       "      <th>6731</th>\n",
       "      <th>6732</th>\n",
       "      <th>6733</th>\n",
       "      <th>6734</th>\n",
       "      <th>6735</th>\n",
       "    </tr>\n",
       "  </thead>\n",
       "  <tbody>\n",
       "    <tr>\n",
       "      <th>0</th>\n",
       "      <td>18614</td>\n",
       "      <td>-0.035533</td>\n",
       "      <td>-0.055721</td>\n",
       "      <td>-0.020507</td>\n",
       "      <td>-0.020507</td>\n",
       "      <td>-0.020507</td>\n",
       "      <td>-0.020507</td>\n",
       "      <td>-0.020507</td>\n",
       "      <td>-0.076278</td>\n",
       "      <td>-0.064971</td>\n",
       "      <td>...</td>\n",
       "      <td>-0.020507</td>\n",
       "      <td>-0.020507</td>\n",
       "      <td>-0.020507</td>\n",
       "      <td>-0.020507</td>\n",
       "      <td>-0.045893</td>\n",
       "      <td>-0.029007</td>\n",
       "      <td>-0.020507</td>\n",
       "      <td>-0.020507</td>\n",
       "      <td>-0.020507</td>\n",
       "      <td>-0.020507</td>\n",
       "    </tr>\n",
       "    <tr>\n",
       "      <th>1</th>\n",
       "      <td>43404</td>\n",
       "      <td>-0.035533</td>\n",
       "      <td>-0.055721</td>\n",
       "      <td>-0.020507</td>\n",
       "      <td>-0.020507</td>\n",
       "      <td>-0.020507</td>\n",
       "      <td>-0.020507</td>\n",
       "      <td>-0.020507</td>\n",
       "      <td>-0.076278</td>\n",
       "      <td>-0.064971</td>\n",
       "      <td>...</td>\n",
       "      <td>-0.020507</td>\n",
       "      <td>-0.020507</td>\n",
       "      <td>-0.020507</td>\n",
       "      <td>-0.020507</td>\n",
       "      <td>-0.045893</td>\n",
       "      <td>-0.029007</td>\n",
       "      <td>-0.020507</td>\n",
       "      <td>-0.020507</td>\n",
       "      <td>-0.020507</td>\n",
       "      <td>-0.020507</td>\n",
       "    </tr>\n",
       "    <tr>\n",
       "      <th>2</th>\n",
       "      <td>34571</td>\n",
       "      <td>-0.035533</td>\n",
       "      <td>-0.055721</td>\n",
       "      <td>-0.020507</td>\n",
       "      <td>-0.020507</td>\n",
       "      <td>-0.020507</td>\n",
       "      <td>-0.020507</td>\n",
       "      <td>-0.020507</td>\n",
       "      <td>-0.076278</td>\n",
       "      <td>-0.064971</td>\n",
       "      <td>...</td>\n",
       "      <td>-0.020507</td>\n",
       "      <td>-0.020507</td>\n",
       "      <td>-0.020507</td>\n",
       "      <td>-0.020507</td>\n",
       "      <td>-0.045893</td>\n",
       "      <td>-0.029007</td>\n",
       "      <td>-0.020507</td>\n",
       "      <td>-0.020507</td>\n",
       "      <td>-0.020507</td>\n",
       "      <td>-0.020507</td>\n",
       "    </tr>\n",
       "    <tr>\n",
       "      <th>3</th>\n",
       "      <td>47738</td>\n",
       "      <td>-0.035533</td>\n",
       "      <td>-0.055721</td>\n",
       "      <td>-0.020507</td>\n",
       "      <td>-0.020507</td>\n",
       "      <td>-0.020507</td>\n",
       "      <td>-0.020507</td>\n",
       "      <td>-0.020507</td>\n",
       "      <td>-0.076278</td>\n",
       "      <td>-0.064971</td>\n",
       "      <td>...</td>\n",
       "      <td>-0.020507</td>\n",
       "      <td>-0.020507</td>\n",
       "      <td>-0.020507</td>\n",
       "      <td>-0.020507</td>\n",
       "      <td>-0.045893</td>\n",
       "      <td>-0.029007</td>\n",
       "      <td>-0.020507</td>\n",
       "      <td>-0.020507</td>\n",
       "      <td>-0.020507</td>\n",
       "      <td>-0.020507</td>\n",
       "    </tr>\n",
       "    <tr>\n",
       "      <th>4</th>\n",
       "      <td>14637</td>\n",
       "      <td>-0.035533</td>\n",
       "      <td>-0.055721</td>\n",
       "      <td>-0.020507</td>\n",
       "      <td>-0.020507</td>\n",
       "      <td>-0.020507</td>\n",
       "      <td>-0.020507</td>\n",
       "      <td>-0.020507</td>\n",
       "      <td>-0.076278</td>\n",
       "      <td>-0.064971</td>\n",
       "      <td>...</td>\n",
       "      <td>-0.020507</td>\n",
       "      <td>-0.020507</td>\n",
       "      <td>-0.020507</td>\n",
       "      <td>-0.020507</td>\n",
       "      <td>-0.045893</td>\n",
       "      <td>-0.029007</td>\n",
       "      <td>-0.020507</td>\n",
       "      <td>-0.020507</td>\n",
       "      <td>-0.020507</td>\n",
       "      <td>-0.020507</td>\n",
       "    </tr>\n",
       "  </tbody>\n",
       "</table>\n",
       "<p>5 rows × 6737 columns</p>\n",
       "</div>"
      ],
      "text/plain": [
       "   scores         0         1         2         3         4         5  \\\n",
       "0   18614 -0.035533 -0.055721 -0.020507 -0.020507 -0.020507 -0.020507   \n",
       "1   43404 -0.035533 -0.055721 -0.020507 -0.020507 -0.020507 -0.020507   \n",
       "2   34571 -0.035533 -0.055721 -0.020507 -0.020507 -0.020507 -0.020507   \n",
       "3   47738 -0.035533 -0.055721 -0.020507 -0.020507 -0.020507 -0.020507   \n",
       "4   14637 -0.035533 -0.055721 -0.020507 -0.020507 -0.020507 -0.020507   \n",
       "\n",
       "          6         7         8    ...         6726      6727      6728  \\\n",
       "0 -0.020507 -0.076278 -0.064971    ...    -0.020507 -0.020507 -0.020507   \n",
       "1 -0.020507 -0.076278 -0.064971    ...    -0.020507 -0.020507 -0.020507   \n",
       "2 -0.020507 -0.076278 -0.064971    ...    -0.020507 -0.020507 -0.020507   \n",
       "3 -0.020507 -0.076278 -0.064971    ...    -0.020507 -0.020507 -0.020507   \n",
       "4 -0.020507 -0.076278 -0.064971    ...    -0.020507 -0.020507 -0.020507   \n",
       "\n",
       "       6729      6730      6731      6732      6733      6734      6735  \n",
       "0 -0.020507 -0.045893 -0.029007 -0.020507 -0.020507 -0.020507 -0.020507  \n",
       "1 -0.020507 -0.045893 -0.029007 -0.020507 -0.020507 -0.020507 -0.020507  \n",
       "2 -0.020507 -0.045893 -0.029007 -0.020507 -0.020507 -0.020507 -0.020507  \n",
       "3 -0.020507 -0.045893 -0.029007 -0.020507 -0.020507 -0.020507 -0.020507  \n",
       "4 -0.020507 -0.045893 -0.029007 -0.020507 -0.020507 -0.020507 -0.020507  \n",
       "\n",
       "[5 rows x 6737 columns]"
      ]
     },
     "execution_count": 101,
     "metadata": {},
     "output_type": "execute_result"
    }
   ],
   "source": [
    "df_con.head()"
   ]
  },
  {
   "cell_type": "markdown",
   "metadata": {},
   "source": [
    "# Connecting 'title'+'score'+'subreddit'"
   ]
  },
  {
   "cell_type": "code",
   "execution_count": 102,
   "metadata": {},
   "outputs": [],
   "source": [
    "df_con=pd.concat([df_con, Xs], axis=1)"
   ]
  },
  {
   "cell_type": "code",
   "execution_count": 103,
   "metadata": {},
   "outputs": [
    {
     "data": {
      "text/plain": [
       "(2379, 8667)"
      ]
     },
     "execution_count": 103,
     "metadata": {},
     "output_type": "execute_result"
    }
   ],
   "source": [
    "df_con.shape"
   ]
  },
  {
   "cell_type": "code",
   "execution_count": 104,
   "metadata": {},
   "outputs": [
    {
     "data": {
      "text/html": [
       "<div>\n",
       "<style scoped>\n",
       "    .dataframe tbody tr th:only-of-type {\n",
       "        vertical-align: middle;\n",
       "    }\n",
       "\n",
       "    .dataframe tbody tr th {\n",
       "        vertical-align: top;\n",
       "    }\n",
       "\n",
       "    .dataframe thead th {\n",
       "        text-align: right;\n",
       "    }\n",
       "</style>\n",
       "<table border=\"1\" class=\"dataframe\">\n",
       "  <thead>\n",
       "    <tr style=\"text-align: right;\">\n",
       "      <th></th>\n",
       "      <th>scores</th>\n",
       "      <th>0</th>\n",
       "      <th>1</th>\n",
       "      <th>2</th>\n",
       "      <th>3</th>\n",
       "      <th>4</th>\n",
       "      <th>5</th>\n",
       "      <th>6</th>\n",
       "      <th>7</th>\n",
       "      <th>8</th>\n",
       "      <th>...</th>\n",
       "      <th>1920</th>\n",
       "      <th>1921</th>\n",
       "      <th>1922</th>\n",
       "      <th>1923</th>\n",
       "      <th>1924</th>\n",
       "      <th>1925</th>\n",
       "      <th>1926</th>\n",
       "      <th>1927</th>\n",
       "      <th>1928</th>\n",
       "      <th>1929</th>\n",
       "    </tr>\n",
       "  </thead>\n",
       "  <tbody>\n",
       "    <tr>\n",
       "      <th>0</th>\n",
       "      <td>18614</td>\n",
       "      <td>-0.035533</td>\n",
       "      <td>-0.055721</td>\n",
       "      <td>-0.020507</td>\n",
       "      <td>-0.020507</td>\n",
       "      <td>-0.020507</td>\n",
       "      <td>-0.020507</td>\n",
       "      <td>-0.020507</td>\n",
       "      <td>-0.076278</td>\n",
       "      <td>-0.064971</td>\n",
       "      <td>...</td>\n",
       "      <td>-0.020507</td>\n",
       "      <td>-0.020507</td>\n",
       "      <td>-0.029007</td>\n",
       "      <td>-0.020507</td>\n",
       "      <td>-0.029007</td>\n",
       "      <td>-0.020507</td>\n",
       "      <td>-0.020507</td>\n",
       "      <td>-0.020507</td>\n",
       "      <td>-0.029007</td>\n",
       "      <td>-0.020507</td>\n",
       "    </tr>\n",
       "    <tr>\n",
       "      <th>1</th>\n",
       "      <td>43404</td>\n",
       "      <td>-0.035533</td>\n",
       "      <td>-0.055721</td>\n",
       "      <td>-0.020507</td>\n",
       "      <td>-0.020507</td>\n",
       "      <td>-0.020507</td>\n",
       "      <td>-0.020507</td>\n",
       "      <td>-0.020507</td>\n",
       "      <td>-0.076278</td>\n",
       "      <td>-0.064971</td>\n",
       "      <td>...</td>\n",
       "      <td>-0.020507</td>\n",
       "      <td>-0.020507</td>\n",
       "      <td>-0.029007</td>\n",
       "      <td>-0.020507</td>\n",
       "      <td>-0.029007</td>\n",
       "      <td>-0.020507</td>\n",
       "      <td>-0.020507</td>\n",
       "      <td>-0.020507</td>\n",
       "      <td>-0.029007</td>\n",
       "      <td>-0.020507</td>\n",
       "    </tr>\n",
       "    <tr>\n",
       "      <th>2</th>\n",
       "      <td>34571</td>\n",
       "      <td>-0.035533</td>\n",
       "      <td>-0.055721</td>\n",
       "      <td>-0.020507</td>\n",
       "      <td>-0.020507</td>\n",
       "      <td>-0.020507</td>\n",
       "      <td>-0.020507</td>\n",
       "      <td>-0.020507</td>\n",
       "      <td>-0.076278</td>\n",
       "      <td>-0.064971</td>\n",
       "      <td>...</td>\n",
       "      <td>-0.020507</td>\n",
       "      <td>-0.020507</td>\n",
       "      <td>-0.029007</td>\n",
       "      <td>-0.020507</td>\n",
       "      <td>-0.029007</td>\n",
       "      <td>-0.020507</td>\n",
       "      <td>-0.020507</td>\n",
       "      <td>-0.020507</td>\n",
       "      <td>-0.029007</td>\n",
       "      <td>-0.020507</td>\n",
       "    </tr>\n",
       "    <tr>\n",
       "      <th>3</th>\n",
       "      <td>47738</td>\n",
       "      <td>-0.035533</td>\n",
       "      <td>-0.055721</td>\n",
       "      <td>-0.020507</td>\n",
       "      <td>-0.020507</td>\n",
       "      <td>-0.020507</td>\n",
       "      <td>-0.020507</td>\n",
       "      <td>-0.020507</td>\n",
       "      <td>-0.076278</td>\n",
       "      <td>-0.064971</td>\n",
       "      <td>...</td>\n",
       "      <td>-0.020507</td>\n",
       "      <td>-0.020507</td>\n",
       "      <td>-0.029007</td>\n",
       "      <td>-0.020507</td>\n",
       "      <td>-0.029007</td>\n",
       "      <td>-0.020507</td>\n",
       "      <td>-0.020507</td>\n",
       "      <td>-0.020507</td>\n",
       "      <td>-0.029007</td>\n",
       "      <td>-0.020507</td>\n",
       "    </tr>\n",
       "    <tr>\n",
       "      <th>4</th>\n",
       "      <td>14637</td>\n",
       "      <td>-0.035533</td>\n",
       "      <td>-0.055721</td>\n",
       "      <td>-0.020507</td>\n",
       "      <td>-0.020507</td>\n",
       "      <td>-0.020507</td>\n",
       "      <td>-0.020507</td>\n",
       "      <td>-0.020507</td>\n",
       "      <td>-0.076278</td>\n",
       "      <td>-0.064971</td>\n",
       "      <td>...</td>\n",
       "      <td>-0.020507</td>\n",
       "      <td>-0.020507</td>\n",
       "      <td>-0.029007</td>\n",
       "      <td>-0.020507</td>\n",
       "      <td>-0.029007</td>\n",
       "      <td>-0.020507</td>\n",
       "      <td>-0.020507</td>\n",
       "      <td>-0.020507</td>\n",
       "      <td>-0.029007</td>\n",
       "      <td>-0.020507</td>\n",
       "    </tr>\n",
       "  </tbody>\n",
       "</table>\n",
       "<p>5 rows × 8667 columns</p>\n",
       "</div>"
      ],
      "text/plain": [
       "   scores         0         1         2         3         4         5  \\\n",
       "0   18614 -0.035533 -0.055721 -0.020507 -0.020507 -0.020507 -0.020507   \n",
       "1   43404 -0.035533 -0.055721 -0.020507 -0.020507 -0.020507 -0.020507   \n",
       "2   34571 -0.035533 -0.055721 -0.020507 -0.020507 -0.020507 -0.020507   \n",
       "3   47738 -0.035533 -0.055721 -0.020507 -0.020507 -0.020507 -0.020507   \n",
       "4   14637 -0.035533 -0.055721 -0.020507 -0.020507 -0.020507 -0.020507   \n",
       "\n",
       "          6         7         8    ...         1920      1921      1922  \\\n",
       "0 -0.020507 -0.076278 -0.064971    ...    -0.020507 -0.020507 -0.029007   \n",
       "1 -0.020507 -0.076278 -0.064971    ...    -0.020507 -0.020507 -0.029007   \n",
       "2 -0.020507 -0.076278 -0.064971    ...    -0.020507 -0.020507 -0.029007   \n",
       "3 -0.020507 -0.076278 -0.064971    ...    -0.020507 -0.020507 -0.029007   \n",
       "4 -0.020507 -0.076278 -0.064971    ...    -0.020507 -0.020507 -0.029007   \n",
       "\n",
       "       1923      1924      1925      1926      1927      1928      1929  \n",
       "0 -0.020507 -0.029007 -0.020507 -0.020507 -0.020507 -0.029007 -0.020507  \n",
       "1 -0.020507 -0.029007 -0.020507 -0.020507 -0.020507 -0.029007 -0.020507  \n",
       "2 -0.020507 -0.029007 -0.020507 -0.020507 -0.020507 -0.029007 -0.020507  \n",
       "3 -0.020507 -0.029007 -0.020507 -0.020507 -0.020507 -0.029007 -0.020507  \n",
       "4 -0.020507 -0.029007 -0.020507 -0.020507 -0.020507 -0.029007 -0.020507  \n",
       "\n",
       "[5 rows x 8667 columns]"
      ]
     },
     "execution_count": 104,
     "metadata": {},
     "output_type": "execute_result"
    }
   ],
   "source": [
    "df_con.head()"
   ]
  },
  {
   "cell_type": "code",
   "execution_count": 105,
   "metadata": {},
   "outputs": [],
   "source": [
    "X=df_con"
   ]
  },
  {
   "cell_type": "code",
   "execution_count": 106,
   "metadata": {},
   "outputs": [],
   "source": [
    "X_train, X_test, y_train, y_test = train_test_split(X, y, test_size=0.33, random_state=42)"
   ]
  },
  {
   "cell_type": "code",
   "execution_count": 107,
   "metadata": {},
   "outputs": [],
   "source": [
    "knn5=KNeighborsClassifier(5)"
   ]
  },
  {
   "cell_type": "code",
   "execution_count": 108,
   "metadata": {},
   "outputs": [
    {
     "data": {
      "text/plain": [
       "KNeighborsClassifier(algorithm='auto', leaf_size=30, metric='minkowski',\n",
       "           metric_params=None, n_jobs=1, n_neighbors=5, p=2,\n",
       "           weights='uniform')"
      ]
     },
     "execution_count": 108,
     "metadata": {},
     "output_type": "execute_result"
    }
   ],
   "source": [
    "knn5.fit(X_train, y_train)"
   ]
  },
  {
   "cell_type": "code",
   "execution_count": 109,
   "metadata": {},
   "outputs": [
    {
     "name": "stdout",
     "output_type": "stream",
     "text": [
      "0.7589453860640302 0.7468193384223919\n"
     ]
    }
   ],
   "source": [
    "print(knn5.score(X_train, y_train), knn5.score(X_test, y_test))"
   ]
  },
  {
   "cell_type": "code",
   "execution_count": 110,
   "metadata": {},
   "outputs": [],
   "source": [
    "y_pred=knn5.predict(X_test)"
   ]
  },
  {
   "cell_type": "code",
   "execution_count": 111,
   "metadata": {},
   "outputs": [],
   "source": [
    "# create dataframe of matrix and add to variable conmat\n",
    "confusion_mat = pd.DataFrame(confusion_matrix(y_test, y_pred), \n",
    "                                              columns=['predicted_High(1)', 'predicted_low(0)'], \n",
    "                      index=['is_High(1)', 'is_Low(0)'])"
   ]
  },
  {
   "cell_type": "code",
   "execution_count": 112,
   "metadata": {
    "scrolled": true
   },
   "outputs": [
    {
     "data": {
      "text/html": [
       "<div>\n",
       "<style scoped>\n",
       "    .dataframe tbody tr th:only-of-type {\n",
       "        vertical-align: middle;\n",
       "    }\n",
       "\n",
       "    .dataframe tbody tr th {\n",
       "        vertical-align: top;\n",
       "    }\n",
       "\n",
       "    .dataframe thead th {\n",
       "        text-align: right;\n",
       "    }\n",
       "</style>\n",
       "<table border=\"1\" class=\"dataframe\">\n",
       "  <thead>\n",
       "    <tr style=\"text-align: right;\">\n",
       "      <th></th>\n",
       "      <th>predicted_High(1)</th>\n",
       "      <th>predicted_low(0)</th>\n",
       "    </tr>\n",
       "  </thead>\n",
       "  <tbody>\n",
       "    <tr>\n",
       "      <th>is_High(1)</th>\n",
       "      <td>334</td>\n",
       "      <td>62</td>\n",
       "    </tr>\n",
       "    <tr>\n",
       "      <th>is_Low(0)</th>\n",
       "      <td>137</td>\n",
       "      <td>253</td>\n",
       "    </tr>\n",
       "  </tbody>\n",
       "</table>\n",
       "</div>"
      ],
      "text/plain": [
       "            predicted_High(1)  predicted_low(0)\n",
       "is_High(1)                334                62\n",
       "is_Low(0)                 137               253"
      ]
     },
     "execution_count": 112,
     "metadata": {},
     "output_type": "execute_result"
    }
   ],
   "source": [
    "confusion_mat"
   ]
  },
  {
   "cell_type": "code",
   "execution_count": 113,
   "metadata": {},
   "outputs": [
    {
     "name": "stdout",
     "output_type": "stream",
     "text": [
      "\n",
      "Classification Report:\n",
      "              precision    recall  f1-score   support\n",
      "\n",
      "          0       0.71      0.84      0.77       396\n",
      "          1       0.80      0.65      0.72       390\n",
      "\n",
      "avg / total       0.76      0.75      0.74       786\n",
      "\n"
     ]
    }
   ],
   "source": [
    "print(\"\\nClassification Report:\\n\",classification_report(y_test, y_pred))\n",
    "# recall is sensetivity, shows confusion matrix scoring"
   ]
  },
  {
   "cell_type": "code",
   "execution_count": null,
   "metadata": {},
   "outputs": [],
   "source": [
    "df_con.to_csv('df_con', index=False)"
   ]
  },
  {
   "cell_type": "code",
   "execution_count": null,
   "metadata": {},
   "outputs": [],
   "source": [
    "y=pd.DataFrame(y)"
   ]
  },
  {
   "cell_type": "code",
   "execution_count": null,
   "metadata": {},
   "outputs": [],
   "source": [
    "y.to_csv('target', index=False)"
   ]
  },
  {
   "cell_type": "code",
   "execution_count": null,
   "metadata": {},
   "outputs": [],
   "source": []
  }
 ],
 "metadata": {
  "kernelspec": {
   "display_name": "Python 3",
   "language": "python",
   "name": "python3"
  },
  "language_info": {
   "codemirror_mode": {
    "name": "ipython",
    "version": 3
   },
   "file_extension": ".py",
   "mimetype": "text/x-python",
   "name": "python",
   "nbconvert_exporter": "python",
   "pygments_lexer": "ipython3",
   "version": "3.6.3"
  }
 },
 "nbformat": 4,
 "nbformat_minor": 2
}
