{
 "cells": [
  {
   "cell_type": "code",
   "execution_count": 33,
   "metadata": {},
   "outputs": [],
   "source": [
    "#imported here ninja weopons, careful!!!!!\n",
    "import requests\n",
    "from bs4 import BeautifulSoup\n",
    "import time\n",
    "import pandas as pd\n",
    "from sklearn.tree import DecisionTreeClassifier, DecisionTreeRegressor\n",
    "import sklearn.datasets as datasets\n",
    "import scipy.stats as stats\n",
    "from ipywidgets import *\n",
    "from IPython.display import display\n",
    "import seaborn as sns\n",
    "import matplotlib.pyplot as plt\n",
    "from sklearn.model_selection import cross_val_score, StratifiedKFold\n",
    "from sklearn.ensemble import RandomForestClassifier, ExtraTreesClassifier, BaggingClassifier\n",
    "from sklearn.model_selection import train_test_split\n",
    "from sklearn.preprocessing import LabelEncoder\n",
    "import numpy as np\n",
    "from sklearn.feature_extraction.text import CountVectorizer\n",
    "import string\n",
    "from nltk.corpus import stopwords\n",
    "from nltk.stem import PorterStemmer\n",
    "from sklearn.model_selection import GridSearchCV\n",
    "from sklearn.metrics import classification_report, confusion_matrix, accuracy_score\n",
    "from sklearn.metrics import roc_auc_score\n",
    "from sklearn.metrics import roc_curve, auc\n",
    "\n",
    "plt.rc(\"figure\", figsize=(9, 7))\n",
    "sns.set_style('whitegrid')\n",
    "%matplotlib inline"
   ]
  },
  {
   "cell_type": "code",
   "execution_count": 198,
   "metadata": {},
   "outputs": [
    {
     "data": {
      "text/html": [
       "<div>\n",
       "<style scoped>\n",
       "    .dataframe tbody tr th:only-of-type {\n",
       "        vertical-align: middle;\n",
       "    }\n",
       "\n",
       "    .dataframe tbody tr th {\n",
       "        vertical-align: top;\n",
       "    }\n",
       "\n",
       "    .dataframe thead th {\n",
       "        text-align: right;\n",
       "    }\n",
       "</style>\n",
       "<table border=\"1\" class=\"dataframe\">\n",
       "  <thead>\n",
       "    <tr style=\"text-align: right;\">\n",
       "      <th></th>\n",
       "      <th>scores</th>\n",
       "      <th>0</th>\n",
       "      <th>1</th>\n",
       "      <th>2</th>\n",
       "      <th>3</th>\n",
       "      <th>4</th>\n",
       "      <th>5</th>\n",
       "      <th>6</th>\n",
       "      <th>7</th>\n",
       "      <th>8</th>\n",
       "      <th>...</th>\n",
       "      <th>1920.1</th>\n",
       "      <th>1921.1</th>\n",
       "      <th>1922.1</th>\n",
       "      <th>1923.1</th>\n",
       "      <th>1924.1</th>\n",
       "      <th>1925.1</th>\n",
       "      <th>1926.1</th>\n",
       "      <th>1927.1</th>\n",
       "      <th>1928.1</th>\n",
       "      <th>1929.1</th>\n",
       "    </tr>\n",
       "  </thead>\n",
       "  <tbody>\n",
       "    <tr>\n",
       "      <th>0</th>\n",
       "      <td>18614</td>\n",
       "      <td>-0.035533</td>\n",
       "      <td>-0.055721</td>\n",
       "      <td>-0.020507</td>\n",
       "      <td>-0.020507</td>\n",
       "      <td>-0.020507</td>\n",
       "      <td>-0.020507</td>\n",
       "      <td>-0.020507</td>\n",
       "      <td>-0.076278</td>\n",
       "      <td>-0.064971</td>\n",
       "      <td>...</td>\n",
       "      <td>-0.020507</td>\n",
       "      <td>-0.020507</td>\n",
       "      <td>-0.029007</td>\n",
       "      <td>-0.020507</td>\n",
       "      <td>-0.029007</td>\n",
       "      <td>-0.020507</td>\n",
       "      <td>-0.020507</td>\n",
       "      <td>-0.020507</td>\n",
       "      <td>-0.029007</td>\n",
       "      <td>-0.020507</td>\n",
       "    </tr>\n",
       "    <tr>\n",
       "      <th>1</th>\n",
       "      <td>43404</td>\n",
       "      <td>-0.035533</td>\n",
       "      <td>-0.055721</td>\n",
       "      <td>-0.020507</td>\n",
       "      <td>-0.020507</td>\n",
       "      <td>-0.020507</td>\n",
       "      <td>-0.020507</td>\n",
       "      <td>-0.020507</td>\n",
       "      <td>-0.076278</td>\n",
       "      <td>-0.064971</td>\n",
       "      <td>...</td>\n",
       "      <td>-0.020507</td>\n",
       "      <td>-0.020507</td>\n",
       "      <td>-0.029007</td>\n",
       "      <td>-0.020507</td>\n",
       "      <td>-0.029007</td>\n",
       "      <td>-0.020507</td>\n",
       "      <td>-0.020507</td>\n",
       "      <td>-0.020507</td>\n",
       "      <td>-0.029007</td>\n",
       "      <td>-0.020507</td>\n",
       "    </tr>\n",
       "    <tr>\n",
       "      <th>2</th>\n",
       "      <td>34571</td>\n",
       "      <td>-0.035533</td>\n",
       "      <td>-0.055721</td>\n",
       "      <td>-0.020507</td>\n",
       "      <td>-0.020507</td>\n",
       "      <td>-0.020507</td>\n",
       "      <td>-0.020507</td>\n",
       "      <td>-0.020507</td>\n",
       "      <td>-0.076278</td>\n",
       "      <td>-0.064971</td>\n",
       "      <td>...</td>\n",
       "      <td>-0.020507</td>\n",
       "      <td>-0.020507</td>\n",
       "      <td>-0.029007</td>\n",
       "      <td>-0.020507</td>\n",
       "      <td>-0.029007</td>\n",
       "      <td>-0.020507</td>\n",
       "      <td>-0.020507</td>\n",
       "      <td>-0.020507</td>\n",
       "      <td>-0.029007</td>\n",
       "      <td>-0.020507</td>\n",
       "    </tr>\n",
       "    <tr>\n",
       "      <th>3</th>\n",
       "      <td>47738</td>\n",
       "      <td>-0.035533</td>\n",
       "      <td>-0.055721</td>\n",
       "      <td>-0.020507</td>\n",
       "      <td>-0.020507</td>\n",
       "      <td>-0.020507</td>\n",
       "      <td>-0.020507</td>\n",
       "      <td>-0.020507</td>\n",
       "      <td>-0.076278</td>\n",
       "      <td>-0.064971</td>\n",
       "      <td>...</td>\n",
       "      <td>-0.020507</td>\n",
       "      <td>-0.020507</td>\n",
       "      <td>-0.029007</td>\n",
       "      <td>-0.020507</td>\n",
       "      <td>-0.029007</td>\n",
       "      <td>-0.020507</td>\n",
       "      <td>-0.020507</td>\n",
       "      <td>-0.020507</td>\n",
       "      <td>-0.029007</td>\n",
       "      <td>-0.020507</td>\n",
       "    </tr>\n",
       "    <tr>\n",
       "      <th>4</th>\n",
       "      <td>14637</td>\n",
       "      <td>-0.035533</td>\n",
       "      <td>-0.055721</td>\n",
       "      <td>-0.020507</td>\n",
       "      <td>-0.020507</td>\n",
       "      <td>-0.020507</td>\n",
       "      <td>-0.020507</td>\n",
       "      <td>-0.020507</td>\n",
       "      <td>-0.076278</td>\n",
       "      <td>-0.064971</td>\n",
       "      <td>...</td>\n",
       "      <td>-0.020507</td>\n",
       "      <td>-0.020507</td>\n",
       "      <td>-0.029007</td>\n",
       "      <td>-0.020507</td>\n",
       "      <td>-0.029007</td>\n",
       "      <td>-0.020507</td>\n",
       "      <td>-0.020507</td>\n",
       "      <td>-0.020507</td>\n",
       "      <td>-0.029007</td>\n",
       "      <td>-0.020507</td>\n",
       "    </tr>\n",
       "  </tbody>\n",
       "</table>\n",
       "<p>5 rows × 8667 columns</p>\n",
       "</div>"
      ],
      "text/plain": [
       "   scores         0         1         2         3         4         5  \\\n",
       "0   18614 -0.035533 -0.055721 -0.020507 -0.020507 -0.020507 -0.020507   \n",
       "1   43404 -0.035533 -0.055721 -0.020507 -0.020507 -0.020507 -0.020507   \n",
       "2   34571 -0.035533 -0.055721 -0.020507 -0.020507 -0.020507 -0.020507   \n",
       "3   47738 -0.035533 -0.055721 -0.020507 -0.020507 -0.020507 -0.020507   \n",
       "4   14637 -0.035533 -0.055721 -0.020507 -0.020507 -0.020507 -0.020507   \n",
       "\n",
       "          6         7         8    ...       1920.1    1921.1    1922.1  \\\n",
       "0 -0.020507 -0.076278 -0.064971    ...    -0.020507 -0.020507 -0.029007   \n",
       "1 -0.020507 -0.076278 -0.064971    ...    -0.020507 -0.020507 -0.029007   \n",
       "2 -0.020507 -0.076278 -0.064971    ...    -0.020507 -0.020507 -0.029007   \n",
       "3 -0.020507 -0.076278 -0.064971    ...    -0.020507 -0.020507 -0.029007   \n",
       "4 -0.020507 -0.076278 -0.064971    ...    -0.020507 -0.020507 -0.029007   \n",
       "\n",
       "     1923.1    1924.1    1925.1    1926.1    1927.1    1928.1    1929.1  \n",
       "0 -0.020507 -0.029007 -0.020507 -0.020507 -0.020507 -0.029007 -0.020507  \n",
       "1 -0.020507 -0.029007 -0.020507 -0.020507 -0.020507 -0.029007 -0.020507  \n",
       "2 -0.020507 -0.029007 -0.020507 -0.020507 -0.020507 -0.029007 -0.020507  \n",
       "3 -0.020507 -0.029007 -0.020507 -0.020507 -0.020507 -0.029007 -0.020507  \n",
       "4 -0.020507 -0.029007 -0.020507 -0.020507 -0.020507 -0.029007 -0.020507  \n",
       "\n",
       "[5 rows x 8667 columns]"
      ]
     },
     "execution_count": 198,
     "metadata": {},
     "output_type": "execute_result"
    }
   ],
   "source": [
    "df=pd.read_csv('df_con')\n",
    "df.head()"
   ]
  },
  {
   "cell_type": "code",
   "execution_count": 199,
   "metadata": {},
   "outputs": [
    {
     "data": {
      "text/plain": [
       "(2379, 8667)"
      ]
     },
     "execution_count": 199,
     "metadata": {},
     "output_type": "execute_result"
    }
   ],
   "source": [
    "X=df\n",
    "X.shape"
   ]
  },
  {
   "cell_type": "code",
   "execution_count": 200,
   "metadata": {},
   "outputs": [
    {
     "data": {
      "text/plain": [
       "(2379, 1)"
      ]
     },
     "execution_count": 200,
     "metadata": {},
     "output_type": "execute_result"
    }
   ],
   "source": [
    "y=pd.read_csv('target')\n",
    "y.shape"
   ]
  },
  {
   "cell_type": "code",
   "execution_count": 201,
   "metadata": {},
   "outputs": [],
   "source": [
    "X_train, X_test, y_train, y_test = train_test_split(X, y, test_size=0.33, random_state=42)"
   ]
  },
  {
   "cell_type": "markdown",
   "metadata": {},
   "source": [
    "# RandomForest: target vs [subreddits, score, titles]"
   ]
  },
  {
   "cell_type": "code",
   "execution_count": 202,
   "metadata": {},
   "outputs": [
    {
     "name": "stderr",
     "output_type": "stream",
     "text": [
      "/Users/enkhbat/miniconda3/lib/python3.6/site-packages/ipykernel_launcher.py:2: DataConversionWarning: A column-vector y was passed when a 1d array was expected. Please change the shape of y to (n_samples,), for example using ravel().\n",
      "  \n"
     ]
    },
    {
     "data": {
      "text/plain": [
       "RandomForestClassifier(bootstrap=True, class_weight=None, criterion='gini',\n",
       "            max_depth=None, max_features='auto', max_leaf_nodes=None,\n",
       "            min_impurity_decrease=0.0, min_impurity_split=None,\n",
       "            min_samples_leaf=1, min_samples_split=2,\n",
       "            min_weight_fraction_leaf=0.0, n_estimators=10, n_jobs=2,\n",
       "            oob_score=False, random_state=0, verbose=0, warm_start=False)"
      ]
     },
     "execution_count": 202,
     "metadata": {},
     "output_type": "execute_result"
    }
   ],
   "source": [
    "rf=RandomForestClassifier(n_jobs=2, random_state=0)\n",
    "rf.fit(X_train, y_train)"
   ]
  },
  {
   "cell_type": "code",
   "execution_count": 203,
   "metadata": {},
   "outputs": [
    {
     "data": {
      "text/plain": [
       "0.965473948524796"
      ]
     },
     "execution_count": 203,
     "metadata": {},
     "output_type": "execute_result"
    }
   ],
   "source": [
    "rf.score(X_train, y_train)"
   ]
  },
  {
   "cell_type": "code",
   "execution_count": 204,
   "metadata": {
    "scrolled": true
   },
   "outputs": [
    {
     "data": {
      "text/plain": [
       "0.7544529262086515"
      ]
     },
     "execution_count": 204,
     "metadata": {},
     "output_type": "execute_result"
    }
   ],
   "source": [
    "rf.score(X_test, y_test)"
   ]
  },
  {
   "cell_type": "code",
   "execution_count": 197,
   "metadata": {},
   "outputs": [],
   "source": [
    "y_pred=rf.predict(X_test)"
   ]
  },
  {
   "cell_type": "code",
   "execution_count": 1,
   "metadata": {
    "scrolled": false
   },
   "outputs": [],
   "source": [
    "rf=RandomForestClassifier(n_jobs=-1)\n",
    "\n",
    "param_grid = { \n",
    "           \"n_estimators\" : [9, 18, 27, 36, 45, 54, 63],\n",
    "           \"max_depth\" : [1, 5, 10, 15, 20, 25, 30],\n",
    "           \"min_samples_leaf\" : [1, 2, 4, 6, 8, 10]\n",
    "}\n",
    "gs=GridSearchCV(rf, param_grid=param_grid)\n",
    "gs.fit(X_train, y_train)\n",
    "print(gs.best_score_)\n",
    "print(gs.best_params_)"
   ]
  },
  {
   "cell_type": "code",
   "execution_count": 211,
   "metadata": {},
   "outputs": [
    {
     "data": {
      "text/plain": [
       "0.7582697201017812"
      ]
     },
     "execution_count": 211,
     "metadata": {},
     "output_type": "execute_result"
    }
   ],
   "source": [
    "gs.score(X_test, y_test)"
   ]
  },
  {
   "cell_type": "code",
   "execution_count": 212,
   "metadata": {},
   "outputs": [],
   "source": [
    "y_pred=gs.predict(X_test)"
   ]
  },
  {
   "cell_type": "code",
   "execution_count": 213,
   "metadata": {},
   "outputs": [
    {
     "data": {
      "text/html": [
       "<div>\n",
       "<style scoped>\n",
       "    .dataframe tbody tr th:only-of-type {\n",
       "        vertical-align: middle;\n",
       "    }\n",
       "\n",
       "    .dataframe tbody tr th {\n",
       "        vertical-align: top;\n",
       "    }\n",
       "\n",
       "    .dataframe thead th {\n",
       "        text-align: right;\n",
       "    }\n",
       "</style>\n",
       "<table border=\"1\" class=\"dataframe\">\n",
       "  <thead>\n",
       "    <tr style=\"text-align: right;\">\n",
       "      <th></th>\n",
       "      <th>predicted_High(1)</th>\n",
       "      <th>predicted_low(0)</th>\n",
       "    </tr>\n",
       "  </thead>\n",
       "  <tbody>\n",
       "    <tr>\n",
       "      <th>is_High(1)</th>\n",
       "      <td>332</td>\n",
       "      <td>64</td>\n",
       "    </tr>\n",
       "    <tr>\n",
       "      <th>is_Low(0)</th>\n",
       "      <td>126</td>\n",
       "      <td>264</td>\n",
       "    </tr>\n",
       "  </tbody>\n",
       "</table>\n",
       "</div>"
      ],
      "text/plain": [
       "            predicted_High(1)  predicted_low(0)\n",
       "is_High(1)                332                64\n",
       "is_Low(0)                 126               264"
      ]
     },
     "execution_count": 213,
     "metadata": {},
     "output_type": "execute_result"
    }
   ],
   "source": [
    "# create dataframe of matrix and add to variable conmat\n",
    "confusion_mat = pd.DataFrame(confusion_matrix(y_test, y_pred), \n",
    "                                              columns=['predicted_High(1)', 'predicted_low(0)'], \n",
    "                      index=['is_High(1)', 'is_Low(0)'])\n",
    "\n",
    "\n",
    "\n",
    "confusion_mat"
   ]
  },
  {
   "cell_type": "code",
   "execution_count": 134,
   "metadata": {},
   "outputs": [
    {
     "data": {
      "text/plain": [
       "array([0.8, 0.1, 0. , 0.2, 0.8, 0.1, 0. , 0.3, 0.7, 1. , 0. , 0. , 0.4,\n",
       "       0. , 0.4, 0.8, 0.7, 0.2, 0. , 0.1, 0.2, 0.4, 0.3, 0.7, 0. , 0.3,\n",
       "       0.4, 0. , 0. , 0. , 0. , 1. , 0.2, 0.7, 0. , 1. , 1. , 1. , 0.7,\n",
       "       0. , 0.3, 0.1, 0.5, 0. , 0. , 0. , 0. , 1. , 0.4, 0.1, 0.2, 1. ,\n",
       "       0. , 0. , 0.7, 1. , 0. , 0. , 0.4, 0.8, 0.7, 0. , 0. , 0. , 1. ,\n",
       "       0.7, 0.1, 0. , 0.5, 0. , 0.6, 1. , 0.6, 0. , 0. , 0.6, 1. , 0.1,\n",
       "       0. , 0.6, 0.8, 0.6, 0.1, 1. , 0. , 0.9, 0. , 0.5, 0.2, 0. , 0. ,\n",
       "       0.8, 0.7, 0.9, 0.7, 0.7, 0.2, 0.1, 0.6, 0.7, 0.1, 0.1, 0.1, 0.2,\n",
       "       0.3, 0.3, 0. , 0.4, 0.6, 0.8, 0.2, 0.8, 0. , 0.4, 0.2, 0.9, 0.2,\n",
       "       1. , 1. , 1. , 1. , 0.2, 1. , 0.7, 0.2, 0. , 1. , 0.1, 0.9, 0.4,\n",
       "       0.1, 0. , 0.2, 0. , 0. , 0.1, 1. , 0.9, 0. , 0.2, 0.5, 0.4, 0.2,\n",
       "       0.3, 0.6, 0.6, 0. , 0.6, 0. , 0. , 0.6, 0. , 0.9, 0.9, 1. , 0.9,\n",
       "       1. , 0.8, 0. , 0.6, 0. , 0. , 1. , 0.4, 0.1, 0.7, 0. , 0. , 0.5,\n",
       "       0.9, 0.2, 0.1, 1. , 0.6, 0.8, 0.2, 0.9, 0.9, 0. , 0.2, 0.1, 0.7,\n",
       "       0.9, 0.5, 1. , 0.7, 0. , 0.6, 0. , 0.8, 0. , 0.1, 0. , 0. , 0.3,\n",
       "       0.2, 1. , 0.9, 0. , 0.9, 0.3, 0.6, 0.8, 0.3, 1. , 0.1, 0. , 0.6,\n",
       "       0.2, 0.7, 1. , 0. , 0. , 0. , 0.4, 0. , 0.3, 0.3, 1. , 1. , 1. ,\n",
       "       1. , 0.9, 0. , 0. , 0.1, 1. , 0.1, 0. , 0.8, 0.2, 0. , 0. , 0.3,\n",
       "       1. , 0.1, 0. , 0.1, 0. , 0.2, 0.3, 0. , 0.3, 0.2, 0.4, 1. , 1. ,\n",
       "       0.2, 0. , 0.7, 0.8, 0.1, 0.8, 0.1, 0.7, 1. , 0. , 0.1, 0.3, 0.7,\n",
       "       0.9, 0.2, 0. , 0.6, 0.6, 0. , 0.5, 0.1, 1. , 0. , 0.6, 0.9, 0. ,\n",
       "       0. , 0.9, 0.9, 1. , 0. , 0.2, 0.6, 0.3, 0.7, 0.9, 0. , 0.1, 0.1,\n",
       "       0. , 0. , 1. , 0.8, 1. , 0.6, 0.4, 0.6, 0.8, 0.2, 0.3, 0.2, 1. ,\n",
       "       0.3, 0.9, 1. , 0. , 0. , 0. , 0. , 0.7, 0. , 0.8, 0.1, 0.1, 0.3,\n",
       "       0.7, 0.1, 0.7, 0.6, 0. , 0. , 0.1, 1. , 0.9, 0.3, 0.9, 0. , 0.5,\n",
       "       1. , 0.1, 0.1, 0.3, 0.7, 0. , 0. , 0.3, 0.9, 0.8, 0.8, 1. , 0.7,\n",
       "       0.3, 0.3, 0. , 0.2, 0.9, 1. , 0.1, 0. , 0.3, 0. , 0. , 0.2, 0.9,\n",
       "       0.2, 0.8, 0.3, 0.2, 0. , 0.6, 0.1, 0.6, 0. , 1. , 0.8, 0.1, 0.6,\n",
       "       0.5, 0.6, 0. , 0. , 0. , 0.9, 0.4, 0. , 0.2, 0.1, 0.3, 0.4, 1. ,\n",
       "       1. , 0.2, 0.7, 0.9, 0.1, 0. , 0.2, 0. , 0.5, 1. , 0.6, 0.1, 0.6,\n",
       "       0. , 0.1, 0.1, 0.5, 0.7, 0.6, 0. , 0. , 0.2, 0. , 0.8, 1. , 0.9,\n",
       "       0.6, 0. , 0.3, 0.5, 0. , 0.2, 0.6, 0.9, 0.2, 0.8, 1. , 1. , 0.6,\n",
       "       0. , 0.6, 0.7, 0.9, 0. , 0. , 0.5, 0. , 0.3, 0.3, 0.1, 1. , 0. ,\n",
       "       0.6, 0.5, 0.2, 0. , 0.3, 0.8, 0.6, 0.1, 0.9, 0.1, 0.1, 0.1, 0.2,\n",
       "       0.7, 0.3, 0.3, 0.5, 0. , 0.9, 0.7, 0. , 0. , 0.9, 0.3, 0.9, 0.6,\n",
       "       1. , 1. , 0.6, 0.3, 0.9, 1. , 0.6, 0.8, 0.1, 0. , 0.1, 0. , 1. ,\n",
       "       1. , 0. , 0.1, 0. , 0. , 0.2, 0.8, 0.1, 0.3, 0.4, 0.1, 0. , 0.2,\n",
       "       0.2, 0.6, 0.7, 0. , 0.8, 0. , 0.9, 0.2, 0.4, 1. , 0. , 0.1, 0.2,\n",
       "       0.3, 1. , 0.3, 0.1, 0. , 0. , 0.6, 0.9, 0. , 0. , 0.4, 1. , 0.2,\n",
       "       0.9, 0.7, 0. , 0. , 0.2, 0. , 0.1, 0.6, 0.5, 0. , 1. , 0.4, 0.9,\n",
       "       0.2, 0.2, 0. , 0. , 0.2, 1. , 0. , 0.1, 0.2, 0.5, 0.5, 0.9, 1. ,\n",
       "       0. , 0.9, 0. , 0.8, 0. , 0.1, 0. , 1. , 0. , 0.5, 0.2, 0. , 0.7,\n",
       "       0.2, 0. , 0.6, 0.9, 0.6, 0.9, 0.8, 0. , 0.4, 0.1, 0.8, 0.3, 0.1,\n",
       "       0.4, 0. , 0. , 0.2, 0.1, 1. , 0.8, 0.8, 0.5, 0.5, 0.5, 0. , 0. ,\n",
       "       0.1, 0.7, 0.8, 0.6, 0.1, 0.7, 0. , 0.8, 0.9, 0.9, 0.9, 0. , 0.7,\n",
       "       0.5, 0.1, 0.2, 1. , 0.7, 0.7, 0.8, 1. , 0.1, 1. , 0. , 0.3, 0.2,\n",
       "       0.1, 1. , 0.9, 0. , 0.8, 0.3, 0.1, 0.1, 0.3, 0.2, 0. , 0.2, 0.3,\n",
       "       0.1, 0.8, 0.9, 0. , 0. , 0.6, 0. , 0.2, 0.1, 0.1, 0.3, 0.1, 0.5,\n",
       "       0.1, 0. , 0.3, 0.6, 1. , 0.9, 0.7, 0.4, 0. , 0. , 0.4, 0.6, 0. ,\n",
       "       0. , 0.5, 1. , 1. , 0. , 0.3, 0.4, 0.8, 0.9, 0. , 0. , 1. , 0.8,\n",
       "       0.1, 0.3, 0. , 1. , 0.3, 0.2, 0.9, 0. , 0.5, 0.6, 0.2, 0.8, 0. ,\n",
       "       1. , 0. , 0. , 0.7, 0.6, 0.7, 0. , 0. , 0.2, 0.6, 0. , 1. , 0. ,\n",
       "       0.3, 0.9, 0.7, 0. , 0.1, 1. , 0. , 0.3, 0. , 0.7, 0. , 0. , 0. ,\n",
       "       0. , 0.2, 0. , 0.8, 0.7, 0. , 0.1, 0.8, 1. , 0.1, 1. , 0.6, 0.3,\n",
       "       0.1, 0.7, 1. , 0.2, 0. , 0.6, 0. , 0.7, 1. , 1. , 0.2, 0. , 0. ,\n",
       "       0. , 0.6, 0.1, 0.6, 0. , 0.3, 0.5, 0.8, 0.2, 0.8, 0. , 0.9, 0.4,\n",
       "       1. , 1. , 0.1, 0.7, 0.9, 0.1, 0. , 0. , 0.4, 0.6, 0. , 0.7, 0.2,\n",
       "       0.2, 0. , 0.1, 0.1, 0.1, 0.4, 0.8, 0.2, 1. , 1. , 0. , 0. , 0. ,\n",
       "       0. , 0.3, 0.3, 0.3, 0.1, 0.6, 1. , 0.8, 0.6, 0.7, 0.9, 1. , 1. ,\n",
       "       0.1, 0. , 0.2, 0.3, 0. , 0.1, 0. , 1. , 0.1, 0.7, 0.2, 0.6, 0.2,\n",
       "       0.5, 0.1, 0.7, 0. , 0. , 1. ])"
      ]
     },
     "execution_count": 134,
     "metadata": {},
     "output_type": "execute_result"
    }
   ],
   "source": [
    "#Tells us the probablity of a Reddit will be correctly identified in the class its assigned\n",
    "clf_y_score = rf.predict_proba(X_test)[:, 1] #[:,1] is formatting the output\n",
    "clf_y_score"
   ]
  },
  {
   "cell_type": "code",
   "execution_count": 136,
   "metadata": {},
   "outputs": [
    {
     "data": {
      "image/png": "[encoded data removed]",
      "text/plain": [
       "<matplotlib.figure.Figure at 0x113112278>"
      ]
     },
     "metadata": {},
     "output_type": "display_data"
    }
   ],
   "source": [
    "clf_FPR = dict()\n",
    "clf_TPR = dict()\n",
    "clf_ROC_AUC = dict()\n",
    "\n",
    "clf_FPR[1], clf_TPR[1], _ = roc_curve(y_test, clf_y_score)\n",
    "clf_ROC_AUC[1] = auc(clf_FPR[1], clf_TPR[1])\n",
    "\n",
    "plt.figure(figsize=[7,5])\n",
    "plt.plot(clf_FPR[1], clf_TPR[1], label='ROC curve (area = %0.3f)' % clf_ROC_AUC[1], linewidth=3)\n",
    "plt.plot([0, 1], [0, 1], 'k--', linewidth=3)\n",
    "plt.xlim([0.0, 1])\n",
    "plt.ylim([0.0, 1])\n",
    "plt.xlabel('False Positive Rate', fontsize=18)\n",
    "plt.ylabel('True Positive Rate', fontsize=18)\n",
    "plt.title('Random Forest Classifier ROC Curve', fontsize=18)\n",
    "plt.legend(loc=\"lower right\")\n",
    "plt.show()"
   ]
  },
  {
   "cell_type": "code",
   "execution_count": 214,
   "metadata": {
    "scrolled": true
   },
   "outputs": [
    {
     "name": "stderr",
     "output_type": "stream",
     "text": [
      "/Users/enkhbat/miniconda3/lib/python3.6/site-packages/ipykernel_launcher.py:2: DataConversionWarning: A column-vector y was passed when a 1d array was expected. Please change the shape of y to (n_samples,), for example using ravel().\n",
      "  \n"
     ]
    },
    {
     "data": {
      "text/plain": [
       "RandomForestClassifier(bootstrap=True, class_weight=None, criterion='gini',\n",
       "            max_depth=30, max_features='auto', max_leaf_nodes=None,\n",
       "            min_impurity_decrease=0.0, min_impurity_split=None,\n",
       "            min_samples_leaf=1, min_samples_split=2,\n",
       "            min_weight_fraction_leaf=0.0, n_estimators=54, n_jobs=-1,\n",
       "            oob_score=False, random_state=None, verbose=0,\n",
       "            warm_start=False)"
      ]
     },
     "execution_count": 214,
     "metadata": {},
     "output_type": "execute_result"
    }
   ],
   "source": [
    "rf_n=RandomForestClassifier(n_jobs=-1, n_estimators=54, max_depth=30)\n",
    "rf_n.fit(X_train, y_train)"
   ]
  },
  {
   "cell_type": "code",
   "execution_count": 215,
   "metadata": {},
   "outputs": [
    {
     "name": "stdout",
     "output_type": "stream",
     "text": [
      "0.8173258003766478 0.7544529262086515\n"
     ]
    }
   ],
   "source": [
    "print(rf_n.score(X_train, y_train),rf_n.score(X_test, y_test))"
   ]
  },
  {
   "cell_type": "code",
   "execution_count": 216,
   "metadata": {},
   "outputs": [
    {
     "data": {
      "text/html": [
       "<div>\n",
       "<style scoped>\n",
       "    .dataframe tbody tr th:only-of-type {\n",
       "        vertical-align: middle;\n",
       "    }\n",
       "\n",
       "    .dataframe tbody tr th {\n",
       "        vertical-align: top;\n",
       "    }\n",
       "\n",
       "    .dataframe thead th {\n",
       "        text-align: right;\n",
       "    }\n",
       "</style>\n",
       "<table border=\"1\" class=\"dataframe\">\n",
       "  <thead>\n",
       "    <tr style=\"text-align: right;\">\n",
       "      <th></th>\n",
       "      <th>predicted_High(1)</th>\n",
       "      <th>predicted_low(0)</th>\n",
       "    </tr>\n",
       "  </thead>\n",
       "  <tbody>\n",
       "    <tr>\n",
       "      <th>is_High(1)</th>\n",
       "      <td>332</td>\n",
       "      <td>64</td>\n",
       "    </tr>\n",
       "    <tr>\n",
       "      <th>is_Low(0)</th>\n",
       "      <td>126</td>\n",
       "      <td>264</td>\n",
       "    </tr>\n",
       "  </tbody>\n",
       "</table>\n",
       "</div>"
      ],
      "text/plain": [
       "            predicted_High(1)  predicted_low(0)\n",
       "is_High(1)                332                64\n",
       "is_Low(0)                 126               264"
      ]
     },
     "execution_count": 216,
     "metadata": {},
     "output_type": "execute_result"
    }
   ],
   "source": [
    "# create dataframe of matrix and add to variable conmat\n",
    "confusion_mat = pd.DataFrame(confusion_matrix(y_test, y_pred), \n",
    "                                              columns=['predicted_High(1)', 'predicted_low(0)'], \n",
    "                      index=['is_High(1)', 'is_Low(0)'])\n",
    "\n",
    "\n",
    "\n",
    "confusion_mat"
   ]
  },
  {
   "cell_type": "code",
   "execution_count": 217,
   "metadata": {},
   "outputs": [
    {
     "name": "stderr",
     "output_type": "stream",
     "text": [
      "/Users/enkhbat/miniconda3/lib/python3.6/site-packages/sklearn/model_selection/_validation.py:458: DataConversionWarning: A column-vector y was passed when a 1d array was expected. Please change the shape of y to (n_samples,), for example using ravel().\n",
      "  estimator.fit(X_train, y_train, **fit_params)\n",
      "/Users/enkhbat/miniconda3/lib/python3.6/site-packages/sklearn/model_selection/_validation.py:458: DataConversionWarning: A column-vector y was passed when a 1d array was expected. Please change the shape of y to (n_samples,), for example using ravel().\n",
      "  estimator.fit(X_train, y_train, **fit_params)\n",
      "/Users/enkhbat/miniconda3/lib/python3.6/site-packages/sklearn/model_selection/_validation.py:458: DataConversionWarning: A column-vector y was passed when a 1d array was expected. Please change the shape of y to (n_samples,), for example using ravel().\n",
      "  estimator.fit(X_train, y_train, **fit_params)\n"
     ]
    },
    {
     "name": "stdout",
     "output_type": "stream",
     "text": [
      "0.654 0.109\n"
     ]
    }
   ],
   "source": [
    "\n",
    "cv = StratifiedKFold(n_splits=3, shuffle=True, random_state=41)\n",
    "\n",
    "dt = RandomForestClassifier(min_samples_leaf=5)\n",
    "s = cross_val_score(dt, X, y, cv=cv, n_jobs=-1)\n",
    "print( s.mean().round(3), s.std().round(3))"
   ]
  },
  {
   "cell_type": "markdown",
   "metadata": {},
   "source": [
    "# RandomForest: target vs [ score, titles]"
   ]
  },
  {
   "cell_type": "code",
   "execution_count": 43,
   "metadata": {},
   "outputs": [],
   "source": [
    "df=pd.read_csv('original')"
   ]
  },
  {
   "cell_type": "code",
   "execution_count": 45,
   "metadata": {},
   "outputs": [
    {
     "data": {
      "text/plain": [
       "(2379,)"
      ]
     },
     "execution_count": 45,
     "metadata": {},
     "output_type": "execute_result"
    }
   ],
   "source": [
    "\n",
    "X=df.scores\n",
    "y=df.target\n",
    "X.shape"
   ]
  },
  {
   "cell_type": "code",
   "execution_count": 127,
   "metadata": {
    "scrolled": true
   },
   "outputs": [
    {
     "name": "stderr",
     "output_type": "stream",
     "text": [
      "/Users/enkhbat/miniconda3/lib/python3.6/site-packages/ipykernel_launcher.py:1: DataConversionWarning: A column-vector y was passed when a 1d array was expected. Please change the shape of y to (n_samples,), for example using ravel().\n",
      "  \"\"\"Entry point for launching an IPython kernel.\n"
     ]
    },
    {
     "name": "stdout",
     "output_type": "stream",
     "text": [
      "0.965473948524796 0.7544529262086515\n"
     ]
    }
   ],
   "source": [
    "rf.fit(X_train, y_train)\n",
    "print(rf.score(X_train, y_train),rf.score(X_test, y_test))"
   ]
  },
  {
   "cell_type": "markdown",
   "metadata": {},
   "source": [
    "# RandomForest: target vs title"
   ]
  },
  {
   "cell_type": "code",
   "execution_count": 47,
   "metadata": {},
   "outputs": [],
   "source": [
    "df=pd.read_csv('just_title')\n",
    "\n",
    "X=df\n",
    "y=df.target"
   ]
  },
  {
   "cell_type": "code",
   "execution_count": 218,
   "metadata": {
    "scrolled": true
   },
   "outputs": [
    {
     "name": "stderr",
     "output_type": "stream",
     "text": [
      "/Users/enkhbat/miniconda3/lib/python3.6/site-packages/ipykernel_launcher.py:2: DataConversionWarning: A column-vector y was passed when a 1d array was expected. Please change the shape of y to (n_samples,), for example using ravel().\n",
      "  \n"
     ]
    },
    {
     "name": "stdout",
     "output_type": "stream",
     "text": [
      "0.8254865034526051 0.7709923664122137\n"
     ]
    }
   ],
   "source": [
    "rf=RandomForestClassifier(n_estimators=35, max_depth=40)\n",
    "rf.fit(X_train, y_train)\n",
    "print(rf.score(X_train, y_train),rf.score(X_test, y_test))"
   ]
  },
  {
   "cell_type": "code",
   "execution_count": 219,
   "metadata": {},
   "outputs": [
    {
     "data": {
      "text/plain": [
       "target    0.509102\n",
       "dtype: float64"
      ]
     },
     "execution_count": 219,
     "metadata": {},
     "output_type": "execute_result"
    }
   ],
   "source": [
    "y_train.mean()"
   ]
  },
  {
   "cell_type": "code",
   "execution_count": 220,
   "metadata": {},
   "outputs": [],
   "source": [
    "y_pred=rf.predict(X_test)"
   ]
  },
  {
   "cell_type": "code",
   "execution_count": 221,
   "metadata": {},
   "outputs": [],
   "source": [
    "# create dataframe of matrix and add to variable conmat\n",
    "confusion_mat = pd.DataFrame(confusion_matrix(y_test, y_pred), \n",
    "                                              columns=['predicted_High(1)', 'predicted_low(0)'], \n",
    "                      index=['is_High(1)', 'is_Low(0)'])"
   ]
  },
  {
   "cell_type": "code",
   "execution_count": 222,
   "metadata": {},
   "outputs": [
    {
     "data": {
      "text/html": [
       "<div>\n",
       "<style scoped>\n",
       "    .dataframe tbody tr th:only-of-type {\n",
       "        vertical-align: middle;\n",
       "    }\n",
       "\n",
       "    .dataframe tbody tr th {\n",
       "        vertical-align: top;\n",
       "    }\n",
       "\n",
       "    .dataframe thead th {\n",
       "        text-align: right;\n",
       "    }\n",
       "</style>\n",
       "<table border=\"1\" class=\"dataframe\">\n",
       "  <thead>\n",
       "    <tr style=\"text-align: right;\">\n",
       "      <th></th>\n",
       "      <th>predicted_High(1)</th>\n",
       "      <th>predicted_low(0)</th>\n",
       "    </tr>\n",
       "  </thead>\n",
       "  <tbody>\n",
       "    <tr>\n",
       "      <th>is_High(1)</th>\n",
       "      <td>339</td>\n",
       "      <td>57</td>\n",
       "    </tr>\n",
       "    <tr>\n",
       "      <th>is_Low(0)</th>\n",
       "      <td>123</td>\n",
       "      <td>267</td>\n",
       "    </tr>\n",
       "  </tbody>\n",
       "</table>\n",
       "</div>"
      ],
      "text/plain": [
       "            predicted_High(1)  predicted_low(0)\n",
       "is_High(1)                339                57\n",
       "is_Low(0)                 123               267"
      ]
     },
     "execution_count": 222,
     "metadata": {},
     "output_type": "execute_result"
    }
   ],
   "source": [
    "confusion_mat"
   ]
  },
  {
   "cell_type": "code",
   "execution_count": 223,
   "metadata": {},
   "outputs": [
    {
     "name": "stdout",
     "output_type": "stream",
     "text": [
      "\n",
      "Classification Report:\n",
      "              precision    recall  f1-score   support\n",
      "\n",
      "          0       0.73      0.86      0.79       396\n",
      "          1       0.82      0.68      0.75       390\n",
      "\n",
      "avg / total       0.78      0.77      0.77       786\n",
      "\n"
     ]
    }
   ],
   "source": [
    "print(\"\\nClassification Report:\\n\",classification_report(y_test, y_pred))\n",
    "# recall is sensetivity, shows confusion matrix scoring"
   ]
  },
  {
   "cell_type": "code",
   "execution_count": 112,
   "metadata": {},
   "outputs": [],
   "source": [
    "\n",
    "\n",
    "\n",
    "\n",
    "                    # try data enginering agian. Differen approach\n",
    "\n",
    "\n",
    "\n"
   ]
  },
  {
   "cell_type": "code",
   "execution_count": 234,
   "metadata": {},
   "outputs": [],
   "source": [
    "df=pd.read_csv('original')"
   ]
  },
  {
   "cell_type": "code",
   "execution_count": 235,
   "metadata": {},
   "outputs": [
    {
     "data": {
      "text/plain": [
       "Index(['index', 'subreddits', 'num_comments', 'titles', 'scores',\n",
       "       'created_utc', 'timelength', 'target'],\n",
       "      dtype='object')"
      ]
     },
     "execution_count": 235,
     "metadata": {},
     "output_type": "execute_result"
    }
   ],
   "source": [
    "df.columns"
   ]
  },
  {
   "cell_type": "code",
   "execution_count": 236,
   "metadata": {},
   "outputs": [],
   "source": [
    "#function to remove and punctuation from the text entered\n",
    "def remove_punctuation(text):\n",
    "    lower = text.lower()   #makes all text lowercase\n",
    "    exclude = set(string.punctuation)    #can tell it to exclude punctuation marks. See above library link\n",
    "    return \"\".join(ch for ch in lower if ch not in exclude)  #will return the string of text if the character for each character in lower and is not in the excluded puncuation"
   ]
  },
  {
   "cell_type": "code",
   "execution_count": 237,
   "metadata": {},
   "outputs": [],
   "source": [
    "# remove punctuation from the title series with the remove_punctuation function\n",
    "df['titles'] = df['titles'].apply(remove_punctuation)"
   ]
  },
  {
   "cell_type": "code",
   "execution_count": 238,
   "metadata": {},
   "outputs": [],
   "source": [
    "\n",
    "# Stemming function is used to simplify the text to its more basic root# Stemming \n",
    "stemmer = PorterStemmer()\n",
    "def stems(string):\n",
    "    string = string.split(' ')\n",
    "    temp = \"\"\n",
    "    for i in string:\n",
    "        temp += (stemmer.stem(i) + \" \")\n",
    "    return temp"
   ]
  },
  {
   "cell_type": "code",
   "execution_count": 239,
   "metadata": {},
   "outputs": [],
   "source": [
    "# Stem function applied to titles\n",
    "df['titles'] = df['titles'].apply(stems)"
   ]
  },
  {
   "cell_type": "code",
   "execution_count": 240,
   "metadata": {},
   "outputs": [],
   "source": [
    "# Vectorize\n",
    "cvec = CountVectorizer(stop_words='english')\n",
    " \n",
    "\n",
    "X  = pd.DataFrame(cvec.fit_transform(df['titles']).todense(),\n",
    "             columns=cvec.get_feature_names())"
   ]
  },
  {
   "cell_type": "code",
   "execution_count": 241,
   "metadata": {},
   "outputs": [],
   "source": [
    "y=df.target"
   ]
  },
  {
   "cell_type": "code",
   "execution_count": 242,
   "metadata": {},
   "outputs": [],
   "source": [
    "X_train, X_test, y_train, y_test = train_test_split(X, y, test_size = 0.3)"
   ]
  },
  {
   "cell_type": "code",
   "execution_count": 243,
   "metadata": {},
   "outputs": [
    {
     "name": "stdout",
     "output_type": "stream",
     "text": [
      "0.8234234234234235 0.5518207282913166\n"
     ]
    }
   ],
   "source": [
    "rf=RandomForestClassifier(n_estimators=35, max_depth=40)\n",
    "rf.fit(X_train, y_train)\n",
    "print(rf.score(X_train, y_train),rf.score(X_test, y_test))"
   ]
  },
  {
   "cell_type": "code",
   "execution_count": 161,
   "metadata": {},
   "outputs": [
    {
     "data": {
      "text/plain": [
       "0                          millionair meet billionair \n",
       "1    abc cancel roseann barr sitcom after her tweet...\n",
       "2    ‘roseanne’ cancel abc scrap season 11 after ba...\n",
       "3    north face stole my photo and put it on their ...\n",
       "4                                cosplay starter pack \n",
       "Name: titles, dtype: object"
      ]
     },
     "execution_count": 161,
     "metadata": {},
     "output_type": "execute_result"
    }
   ],
   "source": [
    "df.titles.head()"
   ]
  },
  {
   "cell_type": "code",
   "execution_count": 162,
   "metadata": {},
   "outputs": [],
   "source": [
    "# another approach. "
   ]
  },
  {
   "cell_type": "code",
   "execution_count": 177,
   "metadata": {},
   "outputs": [],
   "source": [
    "df=pd.read_csv('title_no_scaler')"
   ]
  },
  {
   "cell_type": "code",
   "execution_count": 182,
   "metadata": {},
   "outputs": [
    {
     "data": {
      "text/plain": [
       "(2379, 6736)"
      ]
     },
     "execution_count": 182,
     "metadata": {},
     "output_type": "execute_result"
    }
   ],
   "source": [
    "df.shape"
   ]
  },
  {
   "cell_type": "code",
   "execution_count": 185,
   "metadata": {},
   "outputs": [],
   "source": [
    "df=df.drop('target', axis=1)"
   ]
  },
  {
   "cell_type": "code",
   "execution_count": 186,
   "metadata": {},
   "outputs": [],
   "source": [
    "# Vectorize\n",
    "cvec = CountVectorizer(stop_words='english')"
   ]
  },
  {
   "cell_type": "code",
   "execution_count": 187,
   "metadata": {},
   "outputs": [],
   "source": [
    "X  = pd.DataFrame(cvec.fit_transform(df).todense(),\n",
    "             columns=cvec.get_feature_names())"
   ]
  },
  {
   "cell_type": "code",
   "execution_count": 188,
   "metadata": {},
   "outputs": [
    {
     "data": {
      "text/plain": [
       "(6735, 6735)"
      ]
     },
     "execution_count": 188,
     "metadata": {},
     "output_type": "execute_result"
    }
   ],
   "source": [
    "X.shape"
   ]
  },
  {
   "cell_type": "code",
   "execution_count": 174,
   "metadata": {},
   "outputs": [],
   "source": [
    "y=pd.read_csv('target')\n"
   ]
  },
  {
   "cell_type": "code",
   "execution_count": null,
   "metadata": {},
   "outputs": [],
   "source": []
  },
  {
   "cell_type": "code",
   "execution_count": 175,
   "metadata": {},
   "outputs": [
    {
     "ename": "ValueError",
     "evalue": "Found input variables with inconsistent numbers of samples: [6735, 2379]",
     "output_type": "error",
     "traceback": [
      "\u001b[0;31m---------------------------------------------------------------------------\u001b[0m",
      "\u001b[0;31mValueError\u001b[0m                                Traceback (most recent call last)",
      "\u001b[0;32m<ipython-input-175-243b910107b5>\u001b[0m in \u001b[0;36m<module>\u001b[0;34m()\u001b[0m\n\u001b[0;32m----> 1\u001b[0;31m \u001b[0mX_train\u001b[0m\u001b[0;34m,\u001b[0m \u001b[0mX_test\u001b[0m\u001b[0;34m,\u001b[0m \u001b[0my_train\u001b[0m\u001b[0;34m,\u001b[0m \u001b[0my_test\u001b[0m \u001b[0;34m=\u001b[0m \u001b[0mtrain_test_split\u001b[0m\u001b[0;34m(\u001b[0m\u001b[0mX\u001b[0m\u001b[0;34m,\u001b[0m \u001b[0my\u001b[0m\u001b[0;34m,\u001b[0m \u001b[0mtest_size\u001b[0m \u001b[0;34m=\u001b[0m \u001b[0;36m0.3\u001b[0m\u001b[0;34m)\u001b[0m\u001b[0;34m\u001b[0m\u001b[0m\n\u001b[0m",
      "\u001b[0;32m~/miniconda3/lib/python3.6/site-packages/sklearn/model_selection/_split.py\u001b[0m in \u001b[0;36mtrain_test_split\u001b[0;34m(*arrays, **options)\u001b[0m\n\u001b[1;32m   2029\u001b[0m         \u001b[0mtest_size\u001b[0m \u001b[0;34m=\u001b[0m \u001b[0;36m0.25\u001b[0m\u001b[0;34m\u001b[0m\u001b[0m\n\u001b[1;32m   2030\u001b[0m \u001b[0;34m\u001b[0m\u001b[0m\n\u001b[0;32m-> 2031\u001b[0;31m     \u001b[0marrays\u001b[0m \u001b[0;34m=\u001b[0m \u001b[0mindexable\u001b[0m\u001b[0;34m(\u001b[0m\u001b[0;34m*\u001b[0m\u001b[0marrays\u001b[0m\u001b[0;34m)\u001b[0m\u001b[0;34m\u001b[0m\u001b[0m\n\u001b[0m\u001b[1;32m   2032\u001b[0m \u001b[0;34m\u001b[0m\u001b[0m\n\u001b[1;32m   2033\u001b[0m     \u001b[0;32mif\u001b[0m \u001b[0mshuffle\u001b[0m \u001b[0;32mis\u001b[0m \u001b[0;32mFalse\u001b[0m\u001b[0;34m:\u001b[0m\u001b[0;34m\u001b[0m\u001b[0m\n",
      "\u001b[0;32m~/miniconda3/lib/python3.6/site-packages/sklearn/utils/validation.py\u001b[0m in \u001b[0;36mindexable\u001b[0;34m(*iterables)\u001b[0m\n\u001b[1;32m    227\u001b[0m         \u001b[0;32melse\u001b[0m\u001b[0;34m:\u001b[0m\u001b[0;34m\u001b[0m\u001b[0m\n\u001b[1;32m    228\u001b[0m             \u001b[0mresult\u001b[0m\u001b[0;34m.\u001b[0m\u001b[0mappend\u001b[0m\u001b[0;34m(\u001b[0m\u001b[0mnp\u001b[0m\u001b[0;34m.\u001b[0m\u001b[0marray\u001b[0m\u001b[0;34m(\u001b[0m\u001b[0mX\u001b[0m\u001b[0;34m)\u001b[0m\u001b[0;34m)\u001b[0m\u001b[0;34m\u001b[0m\u001b[0m\n\u001b[0;32m--> 229\u001b[0;31m     \u001b[0mcheck_consistent_length\u001b[0m\u001b[0;34m(\u001b[0m\u001b[0;34m*\u001b[0m\u001b[0mresult\u001b[0m\u001b[0;34m)\u001b[0m\u001b[0;34m\u001b[0m\u001b[0m\n\u001b[0m\u001b[1;32m    230\u001b[0m     \u001b[0;32mreturn\u001b[0m \u001b[0mresult\u001b[0m\u001b[0;34m\u001b[0m\u001b[0m\n\u001b[1;32m    231\u001b[0m \u001b[0;34m\u001b[0m\u001b[0m\n",
      "\u001b[0;32m~/miniconda3/lib/python3.6/site-packages/sklearn/utils/validation.py\u001b[0m in \u001b[0;36mcheck_consistent_length\u001b[0;34m(*arrays)\u001b[0m\n\u001b[1;32m    202\u001b[0m     \u001b[0;32mif\u001b[0m \u001b[0mlen\u001b[0m\u001b[0;34m(\u001b[0m\u001b[0muniques\u001b[0m\u001b[0;34m)\u001b[0m \u001b[0;34m>\u001b[0m \u001b[0;36m1\u001b[0m\u001b[0;34m:\u001b[0m\u001b[0;34m\u001b[0m\u001b[0m\n\u001b[1;32m    203\u001b[0m         raise ValueError(\"Found input variables with inconsistent numbers of\"\n\u001b[0;32m--> 204\u001b[0;31m                          \" samples: %r\" % [int(l) for l in lengths])\n\u001b[0m\u001b[1;32m    205\u001b[0m \u001b[0;34m\u001b[0m\u001b[0m\n\u001b[1;32m    206\u001b[0m \u001b[0;34m\u001b[0m\u001b[0m\n",
      "\u001b[0;31mValueError\u001b[0m: Found input variables with inconsistent numbers of samples: [6735, 2379]"
     ]
    }
   ],
   "source": [
    "X_train, X_test, y_train, y_test = train_test_split(X, y, test_size = 0.3)"
   ]
  },
  {
   "cell_type": "code",
   "execution_count": 145,
   "metadata": {},
   "outputs": [
    {
     "name": "stdout",
     "output_type": "stream",
     "text": [
      "1.0 0.9985994397759104\n"
     ]
    }
   ],
   "source": [
    "rf=RandomForestClassifier()\n",
    "rf.fit(X_train, y_train)\n",
    "print(rf.score(X_train, y_train),rf.score(X_test, y_test))"
   ]
  },
  {
   "cell_type": "markdown",
   "metadata": {},
   "source": [
    "# RandomForest: target vs subreddit"
   ]
  },
  {
   "cell_type": "code",
   "execution_count": 88,
   "metadata": {},
   "outputs": [],
   "source": [
    "df=pd.read_csv('original')"
   ]
  },
  {
   "cell_type": "code",
   "execution_count": 94,
   "metadata": {
    "scrolled": true
   },
   "outputs": [
    {
     "data": {
      "text/html": [
       "<div>\n",
       "<style scoped>\n",
       "    .dataframe tbody tr th:only-of-type {\n",
       "        vertical-align: middle;\n",
       "    }\n",
       "\n",
       "    .dataframe tbody tr th {\n",
       "        vertical-align: top;\n",
       "    }\n",
       "\n",
       "    .dataframe thead th {\n",
       "        text-align: right;\n",
       "    }\n",
       "</style>\n",
       "<table border=\"1\" class=\"dataframe\">\n",
       "  <thead>\n",
       "    <tr style=\"text-align: right;\">\n",
       "      <th></th>\n",
       "      <th>index</th>\n",
       "      <th>subreddits</th>\n",
       "      <th>num_comments</th>\n",
       "      <th>titles</th>\n",
       "      <th>scores</th>\n",
       "      <th>created_utc</th>\n",
       "      <th>timelength</th>\n",
       "      <th>target</th>\n",
       "    </tr>\n",
       "  </thead>\n",
       "  <tbody>\n",
       "    <tr>\n",
       "      <th>0</th>\n",
       "      <td>0</td>\n",
       "      <td>gifs</td>\n",
       "      <td>1137</td>\n",
       "      <td>Millionaire meets billionaire</td>\n",
       "      <td>18614</td>\n",
       "      <td>1.527624e+09</td>\n",
       "      <td>21.546944</td>\n",
       "      <td>1</td>\n",
       "    </tr>\n",
       "    <tr>\n",
       "      <th>1</th>\n",
       "      <td>1</td>\n",
       "      <td>news</td>\n",
       "      <td>5877</td>\n",
       "      <td>ABC cancels Roseanne Barr's sitcom after her t...</td>\n",
       "      <td>43404</td>\n",
       "      <td>1.527616e+09</td>\n",
       "      <td>19.441944</td>\n",
       "      <td>1</td>\n",
       "    </tr>\n",
       "    <tr>\n",
       "      <th>2</th>\n",
       "      <td>2</td>\n",
       "      <td>television</td>\n",
       "      <td>10083</td>\n",
       "      <td>‘Roseanne’ Cancelled: ABC Scraps Season 11 Aft...</td>\n",
       "      <td>34571</td>\n",
       "      <td>1.527616e+09</td>\n",
       "      <td>19.373056</td>\n",
       "      <td>1</td>\n",
       "    </tr>\n",
       "    <tr>\n",
       "      <th>3</th>\n",
       "      <td>3</td>\n",
       "      <td>mildlyinfuriating</td>\n",
       "      <td>2525</td>\n",
       "      <td>North Face stole my photo and put it on their ...</td>\n",
       "      <td>47738</td>\n",
       "      <td>1.527614e+09</td>\n",
       "      <td>18.789444</td>\n",
       "      <td>1</td>\n",
       "    </tr>\n",
       "    <tr>\n",
       "      <th>4</th>\n",
       "      <td>4</td>\n",
       "      <td>starterpacks</td>\n",
       "      <td>643</td>\n",
       "      <td>Cosplay Starter Pack</td>\n",
       "      <td>14637</td>\n",
       "      <td>1.527616e+09</td>\n",
       "      <td>19.463056</td>\n",
       "      <td>1</td>\n",
       "    </tr>\n",
       "  </tbody>\n",
       "</table>\n",
       "</div>"
      ],
      "text/plain": [
       "   index         subreddits  num_comments  \\\n",
       "0      0               gifs          1137   \n",
       "1      1               news          5877   \n",
       "2      2         television         10083   \n",
       "3      3  mildlyinfuriating          2525   \n",
       "4      4       starterpacks           643   \n",
       "\n",
       "                                              titles  scores   created_utc  \\\n",
       "0                      Millionaire meets billionaire   18614  1.527624e+09   \n",
       "1  ABC cancels Roseanne Barr's sitcom after her t...   43404  1.527616e+09   \n",
       "2  ‘Roseanne’ Cancelled: ABC Scraps Season 11 Aft...   34571  1.527616e+09   \n",
       "3  North Face stole my photo and put it on their ...   47738  1.527614e+09   \n",
       "4                               Cosplay Starter Pack   14637  1.527616e+09   \n",
       "\n",
       "   timelength  target  \n",
       "0   21.546944       1  \n",
       "1   19.441944       1  \n",
       "2   19.373056       1  \n",
       "3   18.789444       1  \n",
       "4   19.463056       1  "
      ]
     },
     "execution_count": 94,
     "metadata": {},
     "output_type": "execute_result"
    }
   ],
   "source": [
    "df.head()"
   ]
  },
  {
   "cell_type": "code",
   "execution_count": 89,
   "metadata": {},
   "outputs": [],
   "source": [
    "# Vectorize\n",
    "cvec = CountVectorizer(stop_words='english')\n",
    " \n",
    "\n",
    "X  = pd.DataFrame(cvec.fit_transform(df['subreddits']).todense(),\n",
    "             columns=cvec.get_feature_names())"
   ]
  },
  {
   "cell_type": "code",
   "execution_count": 90,
   "metadata": {},
   "outputs": [],
   "source": [
    "y=df.target"
   ]
  },
  {
   "cell_type": "code",
   "execution_count": 91,
   "metadata": {},
   "outputs": [],
   "source": [
    "X_train, X_test, y_train, y_test = train_test_split(X, y, test_size = 0.3)"
   ]
  },
  {
   "cell_type": "code",
   "execution_count": 92,
   "metadata": {},
   "outputs": [
    {
     "data": {
      "text/plain": [
       "RandomForestClassifier(bootstrap=True, class_weight=None, criterion='gini',\n",
       "            max_depth=None, max_features='auto', max_leaf_nodes=None,\n",
       "            min_impurity_decrease=0.0, min_impurity_split=None,\n",
       "            min_samples_leaf=1, min_samples_split=2,\n",
       "            min_weight_fraction_leaf=0.0, n_estimators=10, n_jobs=2,\n",
       "            oob_score=False, random_state=0, verbose=0, warm_start=False)"
      ]
     },
     "execution_count": 92,
     "metadata": {},
     "output_type": "execute_result"
    }
   ],
   "source": [
    "rf_n.fit(X_train, y_train)"
   ]
  },
  {
   "cell_type": "code",
   "execution_count": 93,
   "metadata": {},
   "outputs": [
    {
     "name": "stdout",
     "output_type": "stream",
     "text": [
      "0.9267267267267267 0.5266106442577031\n"
     ]
    }
   ],
   "source": [
    "print(rf_n.score(X_train, y_train),rf_n.score(X_test, y_test))"
   ]
  },
  {
   "cell_type": "code",
   "execution_count": null,
   "metadata": {},
   "outputs": [],
   "source": [
    "from nltk.corpus import "
   ]
  },
  {
   "cell_type": "code",
   "execution_count": null,
   "metadata": {},
   "outputs": [],
   "source": []
  },
  {
   "cell_type": "code",
   "execution_count": 139,
   "metadata": {},
   "outputs": [],
   "source": []
  },
  {
   "cell_type": "code",
   "execution_count": 140,
   "metadata": {},
   "outputs": [
    {
     "data": {
      "text/html": [
       "<div>\n",
       "<style scoped>\n",
       "    .dataframe tbody tr th:only-of-type {\n",
       "        vertical-align: middle;\n",
       "    }\n",
       "\n",
       "    .dataframe tbody tr th {\n",
       "        vertical-align: top;\n",
       "    }\n",
       "\n",
       "    .dataframe thead th {\n",
       "        text-align: right;\n",
       "    }\n",
       "</style>\n",
       "<table border=\"1\" class=\"dataframe\">\n",
       "  <thead>\n",
       "    <tr style=\"text-align: right;\">\n",
       "      <th></th>\n",
       "      <th>00</th>\n",
       "      <th>000</th>\n",
       "      <th>00am</th>\n",
       "      <th>01m</th>\n",
       "      <th>03</th>\n",
       "      <th>07</th>\n",
       "      <th>09</th>\n",
       "      <th>10</th>\n",
       "      <th>100</th>\n",
       "      <th>100k</th>\n",
       "      <th>...</th>\n",
       "      <th>zhongwei</th>\n",
       "      <th>zijn</th>\n",
       "      <th>zofia</th>\n",
       "      <th>zonable</th>\n",
       "      <th>zoo</th>\n",
       "      <th>zoomies</th>\n",
       "      <th>zoro</th>\n",
       "      <th>zorro</th>\n",
       "      <th>zr</th>\n",
       "      <th>ztd</th>\n",
       "    </tr>\n",
       "  </thead>\n",
       "  <tbody>\n",
       "    <tr>\n",
       "      <th>0</th>\n",
       "      <td>0</td>\n",
       "      <td>0</td>\n",
       "      <td>0</td>\n",
       "      <td>0</td>\n",
       "      <td>0</td>\n",
       "      <td>0</td>\n",
       "      <td>0</td>\n",
       "      <td>0</td>\n",
       "      <td>0</td>\n",
       "      <td>0</td>\n",
       "      <td>...</td>\n",
       "      <td>0</td>\n",
       "      <td>0</td>\n",
       "      <td>0</td>\n",
       "      <td>0</td>\n",
       "      <td>0</td>\n",
       "      <td>0</td>\n",
       "      <td>0</td>\n",
       "      <td>0</td>\n",
       "      <td>0</td>\n",
       "      <td>0</td>\n",
       "    </tr>\n",
       "    <tr>\n",
       "      <th>1</th>\n",
       "      <td>0</td>\n",
       "      <td>0</td>\n",
       "      <td>0</td>\n",
       "      <td>0</td>\n",
       "      <td>0</td>\n",
       "      <td>0</td>\n",
       "      <td>0</td>\n",
       "      <td>0</td>\n",
       "      <td>0</td>\n",
       "      <td>0</td>\n",
       "      <td>...</td>\n",
       "      <td>0</td>\n",
       "      <td>0</td>\n",
       "      <td>0</td>\n",
       "      <td>0</td>\n",
       "      <td>0</td>\n",
       "      <td>0</td>\n",
       "      <td>0</td>\n",
       "      <td>0</td>\n",
       "      <td>0</td>\n",
       "      <td>0</td>\n",
       "    </tr>\n",
       "    <tr>\n",
       "      <th>2</th>\n",
       "      <td>0</td>\n",
       "      <td>0</td>\n",
       "      <td>0</td>\n",
       "      <td>0</td>\n",
       "      <td>0</td>\n",
       "      <td>0</td>\n",
       "      <td>0</td>\n",
       "      <td>0</td>\n",
       "      <td>0</td>\n",
       "      <td>0</td>\n",
       "      <td>...</td>\n",
       "      <td>0</td>\n",
       "      <td>0</td>\n",
       "      <td>0</td>\n",
       "      <td>0</td>\n",
       "      <td>0</td>\n",
       "      <td>0</td>\n",
       "      <td>0</td>\n",
       "      <td>0</td>\n",
       "      <td>0</td>\n",
       "      <td>0</td>\n",
       "    </tr>\n",
       "    <tr>\n",
       "      <th>3</th>\n",
       "      <td>0</td>\n",
       "      <td>0</td>\n",
       "      <td>0</td>\n",
       "      <td>0</td>\n",
       "      <td>0</td>\n",
       "      <td>0</td>\n",
       "      <td>0</td>\n",
       "      <td>0</td>\n",
       "      <td>0</td>\n",
       "      <td>0</td>\n",
       "      <td>...</td>\n",
       "      <td>0</td>\n",
       "      <td>0</td>\n",
       "      <td>0</td>\n",
       "      <td>0</td>\n",
       "      <td>0</td>\n",
       "      <td>0</td>\n",
       "      <td>0</td>\n",
       "      <td>0</td>\n",
       "      <td>0</td>\n",
       "      <td>0</td>\n",
       "    </tr>\n",
       "    <tr>\n",
       "      <th>4</th>\n",
       "      <td>0</td>\n",
       "      <td>0</td>\n",
       "      <td>0</td>\n",
       "      <td>0</td>\n",
       "      <td>0</td>\n",
       "      <td>0</td>\n",
       "      <td>0</td>\n",
       "      <td>0</td>\n",
       "      <td>0</td>\n",
       "      <td>0</td>\n",
       "      <td>...</td>\n",
       "      <td>0</td>\n",
       "      <td>0</td>\n",
       "      <td>0</td>\n",
       "      <td>0</td>\n",
       "      <td>0</td>\n",
       "      <td>0</td>\n",
       "      <td>0</td>\n",
       "      <td>0</td>\n",
       "      <td>0</td>\n",
       "      <td>0</td>\n",
       "    </tr>\n",
       "  </tbody>\n",
       "</table>\n",
       "<p>5 rows × 6736 columns</p>\n",
       "</div>"
      ],
      "text/plain": [
       "   00  000  00am  01m  03  07  09  10  100  100k ...   zhongwei  zijn  zofia  \\\n",
       "0   0    0     0    0   0   0   0   0    0     0 ...          0     0      0   \n",
       "1   0    0     0    0   0   0   0   0    0     0 ...          0     0      0   \n",
       "2   0    0     0    0   0   0   0   0    0     0 ...          0     0      0   \n",
       "3   0    0     0    0   0   0   0   0    0     0 ...          0     0      0   \n",
       "4   0    0     0    0   0   0   0   0    0     0 ...          0     0      0   \n",
       "\n",
       "   zonable  zoo  zoomies  zoro  zorro  zr  ztd  \n",
       "0        0    0        0     0      0   0    0  \n",
       "1        0    0        0     0      0   0    0  \n",
       "2        0    0        0     0      0   0    0  \n",
       "3        0    0        0     0      0   0    0  \n",
       "4        0    0        0     0      0   0    0  \n",
       "\n",
       "[5 rows x 6736 columns]"
      ]
     },
     "execution_count": 140,
     "metadata": {},
     "output_type": "execute_result"
    }
   ],
   "source": [
    "df.head()"
   ]
  },
  {
   "cell_type": "code",
   "execution_count": null,
   "metadata": {},
   "outputs": [],
   "source": []
  }
 ],
 "metadata": {
  "kernelspec": {
   "display_name": "Python 3",
   "language": "python",
   "name": "python3"
  },
  "language_info": {
   "codemirror_mode": {
    "name": "ipython",
    "version": 3
   },
   "file_extension": ".py",
   "mimetype": "text/x-python",
   "name": "python",
   "nbconvert_exporter": "python",
   "pygments_lexer": "ipython3",
   "version": "3.6.3"
  }
 },
 "nbformat": 4,
 "nbformat_minor": 2
}
